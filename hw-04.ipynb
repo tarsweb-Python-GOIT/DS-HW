{
 "cells": [
  {
   "cell_type": "markdown",
   "metadata": {},
   "source": [
    "# На цей раз вам потрібно виконати завдання з цього [ноутбука](\"https://colab.research.google.com/drive/1XpRovHlJJ16FZojZd8-9ci1pyiUiYogx?usp=sharing#scrollTo=Ml3jlosnF0cm\"). Для вирішення запропонованих завдань вам також потрібно завантажити [датасет](\"https://drive.google.com/file/d/1-4wgz9AFXrD3tZfqHJLMhCmy4BUzAX96/view?usp=sharing\") з даними про оренду велосипедів."
   ]
  }
 ],
 "metadata": {
  "language_info": {
   "name": "python"
  }
 },
 "nbformat": 4,
 "nbformat_minor": 2
}
