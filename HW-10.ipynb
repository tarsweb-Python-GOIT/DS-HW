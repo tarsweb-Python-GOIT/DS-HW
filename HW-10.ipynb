{
 "cells": [
  {
   "cell_type": "code",
   "execution_count": 1,
   "metadata": {},
   "outputs": [],
   "source": [
    "import keras as k\n",
    "import tensorflow as tf\n",
    "\n",
    "import matplotlib.pyplot as plt\n",
    "import seaborn as sns\n",
    "\n",
    "import numpy as np\n",
    "import pandas as pd\n",
    "\n",
    "from sklearn.metrics import confusion_matrix, classification_report"
   ]
  },
  {
   "cell_type": "code",
   "execution_count": null,
   "metadata": {},
   "outputs": [],
   "source": [
    "def plot_history(hst, title = ''):\n",
    "    plt.figure(figsize=(13, 4))\n",
    "\n",
    "    plt.subplot(1, 2, 1)\n",
    "    plt.plot(hst.history['loss'], label='train')\n",
    "    plt.plot(hst.history['val_loss'], label='test')\n",
    "    plt.title('Loss')\n",
    "    plt.legend()\n",
    "    plt.grid()\n",
    "\n",
    "    plt.subplot(1, 2, 2)\n",
    "    plt.plot([round(100*e, 2) for e in hst.history['accuracy']], label='train')\n",
    "    plt.plot([round(100*e, 2) for e in hst.history['val_accuracy']], label='test')\n",
    "    plt.title('Accuracy')\n",
    "\n",
    "    plt.ylim(0, 100)\n",
    "    plt.legend()\n",
    "    plt.grid()\n",
    "\n",
    "    plt.tight_layout()\n",
    "\n",
    "    plt.suptitle(title)\n",
    "    plt.show()"
   ]
  },
  {
   "cell_type": "code",
   "execution_count": 2,
   "metadata": {},
   "outputs": [],
   "source": [
    "from keras.datasets import fashion_mnist\n",
    "labels = ['T-shirt/top', 'Trouser', 'Pullover', 'Dress', 'Coat', 'Sandal', 'Shirt', 'Sneaker', 'Bag', 'Ankle boot']"
   ]
  },
  {
   "cell_type": "code",
   "execution_count": 3,
   "metadata": {},
   "outputs": [],
   "source": [
    "(x_train, y_train), (x_test, y_test) = fashion_mnist.load_data()\n",
    "\n",
    "x_train = x_train.reshape(x_train.shape[0], 28, 28, 1)\n",
    "x_test = x_test.reshape(x_test.shape[0], 28, 28, 1)\n",
    "\n",
    "x_train = x_train.astype('float32')/255\n",
    "x_test = x_test.astype('float32')/255"
   ]
  },
  {
   "cell_type": "markdown",
   "metadata": {},
   "source": [
    "PART 1 - Create Сonvolutional Neural Network"
   ]
  },
  {
   "cell_type": "code",
   "execution_count": 7,
   "metadata": {},
   "outputs": [
    {
     "name": "stdout",
     "output_type": "stream",
     "text": [
      "Epoch 1/15\n"
     ]
    },
    {
     "name": "stderr",
     "output_type": "stream",
     "text": [
      "d:\\project_GoIT\\Python\\Python\\DS-HW-01\\.conda\\Lib\\site-packages\\keras\\src\\layers\\reshaping\\flatten.py:37: UserWarning: Do not pass an `input_shape`/`input_dim` argument to a layer. When using Sequential models, prefer using an `Input(shape)` object as the first layer in the model instead.\n",
      "  super().__init__(**kwargs)\n",
      "d:\\project_GoIT\\Python\\Python\\DS-HW-01\\.conda\\Lib\\site-packages\\keras\\src\\backend\\tensorflow\\nn.py:609: UserWarning: \"`sparse_categorical_crossentropy` received `from_logits=True`, but the `output` argument was produced by a Softmax activation and thus does not represent logits. Was this intended?\n",
      "  output, from_logits = _get_logits(\n"
     ]
    },
    {
     "name": "stdout",
     "output_type": "stream",
     "text": [
      "\u001b[1m938/938\u001b[0m \u001b[32m━━━━━━━━━━━━━━━━━━━━\u001b[0m\u001b[37m\u001b[0m \u001b[1m6s\u001b[0m 4ms/step - accuracy: 0.6376 - loss: 1.0787 - val_accuracy: 0.8194 - val_loss: 0.5161\n",
      "Epoch 2/15\n",
      "\u001b[1m938/938\u001b[0m \u001b[32m━━━━━━━━━━━━━━━━━━━━\u001b[0m\u001b[37m\u001b[0m \u001b[1m4s\u001b[0m 4ms/step - accuracy: 0.8236 - loss: 0.5068 - val_accuracy: 0.8389 - val_loss: 0.4529\n",
      "Epoch 3/15\n",
      "\u001b[1m938/938\u001b[0m \u001b[32m━━━━━━━━━━━━━━━━━━━━\u001b[0m\u001b[37m\u001b[0m \u001b[1m4s\u001b[0m 4ms/step - accuracy: 0.8440 - loss: 0.4394 - val_accuracy: 0.8449 - val_loss: 0.4302\n",
      "Epoch 4/15\n",
      "\u001b[1m938/938\u001b[0m \u001b[32m━━━━━━━━━━━━━━━━━━━━\u001b[0m\u001b[37m\u001b[0m \u001b[1m4s\u001b[0m 4ms/step - accuracy: 0.8547 - loss: 0.4119 - val_accuracy: 0.8534 - val_loss: 0.4049\n",
      "Epoch 5/15\n",
      "\u001b[1m938/938\u001b[0m \u001b[32m━━━━━━━━━━━━━━━━━━━━\u001b[0m\u001b[37m\u001b[0m \u001b[1m4s\u001b[0m 4ms/step - accuracy: 0.8632 - loss: 0.3845 - val_accuracy: 0.8602 - val_loss: 0.3908\n",
      "Epoch 6/15\n",
      "\u001b[1m938/938\u001b[0m \u001b[32m━━━━━━━━━━━━━━━━━━━━\u001b[0m\u001b[37m\u001b[0m \u001b[1m4s\u001b[0m 4ms/step - accuracy: 0.8655 - loss: 0.3708 - val_accuracy: 0.8648 - val_loss: 0.3777\n",
      "Epoch 7/15\n",
      "\u001b[1m938/938\u001b[0m \u001b[32m━━━━━━━━━━━━━━━━━━━━\u001b[0m\u001b[37m\u001b[0m \u001b[1m4s\u001b[0m 4ms/step - accuracy: 0.8696 - loss: 0.3629 - val_accuracy: 0.8612 - val_loss: 0.3797\n",
      "Epoch 8/15\n",
      "\u001b[1m938/938\u001b[0m \u001b[32m━━━━━━━━━━━━━━━━━━━━\u001b[0m\u001b[37m\u001b[0m \u001b[1m4s\u001b[0m 4ms/step - accuracy: 0.8718 - loss: 0.3538 - val_accuracy: 0.8713 - val_loss: 0.3622\n",
      "Epoch 9/15\n",
      "\u001b[1m938/938\u001b[0m \u001b[32m━━━━━━━━━━━━━━━━━━━━\u001b[0m\u001b[37m\u001b[0m \u001b[1m4s\u001b[0m 4ms/step - accuracy: 0.8749 - loss: 0.3406 - val_accuracy: 0.8712 - val_loss: 0.3597\n",
      "Epoch 10/15\n",
      "\u001b[1m938/938\u001b[0m \u001b[32m━━━━━━━━━━━━━━━━━━━━\u001b[0m\u001b[37m\u001b[0m \u001b[1m4s\u001b[0m 4ms/step - accuracy: 0.8778 - loss: 0.3349 - val_accuracy: 0.8681 - val_loss: 0.3590\n",
      "Epoch 11/15\n",
      "\u001b[1m938/938\u001b[0m \u001b[32m━━━━━━━━━━━━━━━━━━━━\u001b[0m\u001b[37m\u001b[0m \u001b[1m4s\u001b[0m 4ms/step - accuracy: 0.8842 - loss: 0.3223 - val_accuracy: 0.8739 - val_loss: 0.3514\n",
      "Epoch 12/15\n",
      "\u001b[1m938/938\u001b[0m \u001b[32m━━━━━━━━━━━━━━━━━━━━\u001b[0m\u001b[37m\u001b[0m \u001b[1m4s\u001b[0m 4ms/step - accuracy: 0.8832 - loss: 0.3198 - val_accuracy: 0.8740 - val_loss: 0.3506\n",
      "Epoch 13/15\n",
      "\u001b[1m938/938\u001b[0m \u001b[32m━━━━━━━━━━━━━━━━━━━━\u001b[0m\u001b[37m\u001b[0m \u001b[1m4s\u001b[0m 4ms/step - accuracy: 0.8858 - loss: 0.3087 - val_accuracy: 0.8780 - val_loss: 0.3427\n",
      "Epoch 14/15\n",
      "\u001b[1m938/938\u001b[0m \u001b[32m━━━━━━━━━━━━━━━━━━━━\u001b[0m\u001b[37m\u001b[0m \u001b[1m4s\u001b[0m 4ms/step - accuracy: 0.8881 - loss: 0.3038 - val_accuracy: 0.8771 - val_loss: 0.3403\n",
      "Epoch 15/15\n",
      "\u001b[1m938/938\u001b[0m \u001b[32m━━━━━━━━━━━━━━━━━━━━\u001b[0m\u001b[37m\u001b[0m \u001b[1m4s\u001b[0m 4ms/step - accuracy: 0.8901 - loss: 0.3011 - val_accuracy: 0.8810 - val_loss: 0.3390\n",
      "\u001b[1m1875/1875\u001b[0m \u001b[32m━━━━━━━━━━━━━━━━━━━━\u001b[0m\u001b[37m\u001b[0m \u001b[1m3s\u001b[0m 2ms/step - accuracy: 0.9041 - loss: 0.2624\n",
      "\u001b[1m313/313\u001b[0m \u001b[32m━━━━━━━━━━━━━━━━━━━━\u001b[0m\u001b[37m\u001b[0m \u001b[1m1s\u001b[0m 2ms/step - accuracy: 0.8825 - loss: 0.3291\n",
      "Train accuracy: 0.9032333493232727\n",
      "Test accuracy: 0.8809999823570251\n"
     ]
    }
   ],
   "source": [
    "model_hw_09 = k.models.Sequential([\n",
    "      k.layers.Flatten(input_shape = (28, 28, 1), name = 'Input'),\n",
    "      k.layers.Dense(128, activation = 'relu', name = 'Hidden_1'),\n",
    "      k.layers.Dropout(0.3),\n",
    "      k.layers.Dense(256, activation = 'softplus', name = 'Hidden_2'),\n",
    "      k.layers.Dense(10, activation = 'softmax', name = 'Output'),\n",
    "  ], \n",
    "  name=\"model_hw_09\")\n",
    "\n",
    "model_hw_09.compile(\n",
    "      loss= k.losses.SparseCategoricalCrossentropy(from_logits=True),\n",
    "      optimizer=k.optimizers.Nadam(learning_rate=0.0002),\n",
    "      metrics=['accuracy']\n",
    "    )\n",
    "\n",
    "model_hw_09.fit(\n",
    "        x_train,\n",
    "        y_train,\n",
    "        epochs=15,\n",
    "        batch_size=64,\n",
    "        validation_data=(x_test, y_test),\n",
    "        verbose=1,\n",
    "        callbacks=[\n",
    "            k.callbacks.EarlyStopping(\n",
    "                monitor=\"val_accuracy\", patience=3, restore_best_weights=True\n",
    "            ),\n",
    "            k.callbacks.EarlyStopping(\n",
    "                monitor=\"val_loss\", patience=3, restore_best_weights=True\n",
    "            ),\n",
    "        ],\n",
    "    )\n",
    "\n",
    "train_loss, train_acc = model_hw_09.evaluate(x_train, y_train)\n",
    "test_loss, test_acc = model_hw_09.evaluate(x_test, y_test)\n",
    "\n",
    "print(\"Train accuracy:\", train_acc)\n",
    "print(\"Test accuracy:\", test_acc)\n"
   ]
  },
  {
   "cell_type": "code",
   "execution_count": 10,
   "metadata": {},
   "outputs": [
    {
     "name": "stdout",
     "output_type": "stream",
     "text": [
      "Epoch 1/15\n",
      "\u001b[1m938/938\u001b[0m \u001b[32m━━━━━━━━━━━━━━━━━━━━\u001b[0m\u001b[37m\u001b[0m \u001b[1m22s\u001b[0m 21ms/step - accuracy: 0.7441 - loss: 0.7118 - val_accuracy: 0.8680 - val_loss: 0.3668\n",
      "Epoch 2/15\n",
      "\u001b[1m938/938\u001b[0m \u001b[32m━━━━━━━━━━━━━━━━━━━━\u001b[0m\u001b[37m\u001b[0m \u001b[1m20s\u001b[0m 21ms/step - accuracy: 0.8801 - loss: 0.3321 - val_accuracy: 0.8853 - val_loss: 0.3198\n",
      "Epoch 3/15\n",
      "\u001b[1m938/938\u001b[0m \u001b[32m━━━━━━━━━━━━━━━━━━━━\u001b[0m\u001b[37m\u001b[0m \u001b[1m20s\u001b[0m 22ms/step - accuracy: 0.8992 - loss: 0.2806 - val_accuracy: 0.8912 - val_loss: 0.2945\n",
      "Epoch 4/15\n",
      "\u001b[1m938/938\u001b[0m \u001b[32m━━━━━━━━━━━━━━━━━━━━\u001b[0m\u001b[37m\u001b[0m \u001b[1m20s\u001b[0m 21ms/step - accuracy: 0.9085 - loss: 0.2503 - val_accuracy: 0.9055 - val_loss: 0.2707\n",
      "Epoch 5/15\n",
      "\u001b[1m938/938\u001b[0m \u001b[32m━━━━━━━━━━━━━━━━━━━━\u001b[0m\u001b[37m\u001b[0m \u001b[1m20s\u001b[0m 21ms/step - accuracy: 0.9198 - loss: 0.2186 - val_accuracy: 0.9044 - val_loss: 0.2679\n",
      "Epoch 6/15\n",
      "\u001b[1m938/938\u001b[0m \u001b[32m━━━━━━━━━━━━━━━━━━━━\u001b[0m\u001b[37m\u001b[0m \u001b[1m20s\u001b[0m 21ms/step - accuracy: 0.9235 - loss: 0.2048 - val_accuracy: 0.9087 - val_loss: 0.2713\n",
      "Epoch 7/15\n",
      "\u001b[1m938/938\u001b[0m \u001b[32m━━━━━━━━━━━━━━━━━━━━\u001b[0m\u001b[37m\u001b[0m \u001b[1m20s\u001b[0m 22ms/step - accuracy: 0.9306 - loss: 0.1866 - val_accuracy: 0.9133 - val_loss: 0.2479\n",
      "Epoch 8/15\n",
      "\u001b[1m938/938\u001b[0m \u001b[32m━━━━━━━━━━━━━━━━━━━━\u001b[0m\u001b[37m\u001b[0m \u001b[1m21s\u001b[0m 22ms/step - accuracy: 0.9378 - loss: 0.1718 - val_accuracy: 0.9124 - val_loss: 0.2549\n",
      "Epoch 9/15\n",
      "\u001b[1m938/938\u001b[0m \u001b[32m━━━━━━━━━━━━━━━━━━━━\u001b[0m\u001b[37m\u001b[0m \u001b[1m21s\u001b[0m 22ms/step - accuracy: 0.9420 - loss: 0.1546 - val_accuracy: 0.9108 - val_loss: 0.2614\n",
      "Epoch 10/15\n",
      "\u001b[1m938/938\u001b[0m \u001b[32m━━━━━━━━━━━━━━━━━━━━\u001b[0m\u001b[37m\u001b[0m \u001b[1m20s\u001b[0m 22ms/step - accuracy: 0.9472 - loss: 0.1391 - val_accuracy: 0.9145 - val_loss: 0.2625\n",
      "\u001b[1m1875/1875\u001b[0m \u001b[32m━━━━━━━━━━━━━━━━━━━━\u001b[0m\u001b[37m\u001b[0m \u001b[1m9s\u001b[0m 5ms/step - accuracy: 0.9425 - loss: 0.1554\n",
      "\u001b[1m313/313\u001b[0m \u001b[32m━━━━━━━━━━━━━━━━━━━━\u001b[0m\u001b[37m\u001b[0m \u001b[1m2s\u001b[0m 5ms/step - accuracy: 0.9130 - loss: 0.2588\n",
      "Train accuracy: 0.9417166709899902\n",
      "Test accuracy: 0.9132999777793884\n"
     ]
    }
   ],
   "source": [
    "model = k.models.Sequential([\n",
    "    k.layers.Conv2D(32, (3, 3), activation='relu', input_shape=(28, 28, 1)),\n",
    "    k.layers.MaxPooling2D((2, 2)),\n",
    "    k.layers.Conv2D(64, (3, 3), activation='relu'),\n",
    "    k.layers.MaxPooling2D((2, 2)),\n",
    "    k.layers.Conv2D(64, (3, 3), activation='relu'),\n",
    "    k.layers.Flatten(),\n",
    "    k.layers.Dense(128, activation='relu'),\n",
    "    k.layers.Dense(10, activation='softmax')\n",
    "], name=\"model_hw_10\")\n",
    "\n",
    "model.compile(\n",
    "    loss= k.losses.SparseCategoricalCrossentropy(from_logits=True),\n",
    "    optimizer=k.optimizers.Nadam(learning_rate=0.001),\n",
    "    metrics=['accuracy']\n",
    ")\n",
    "\n",
    "model.fit(\n",
    "    x_train,\n",
    "    y_train,\n",
    "    epochs=15,\n",
    "    batch_size=64,\n",
    "    validation_data=(x_test, y_test),\n",
    "    verbose=1,\n",
    "    callbacks=[\n",
    "        k.callbacks.EarlyStopping(\n",
    "            monitor=\"val_accuracy\", patience=3, restore_best_weights=True\n",
    "        ),\n",
    "        k.callbacks.EarlyStopping(\n",
    "            monitor=\"val_loss\", patience=3, restore_best_weights=True\n",
    "        ),\n",
    "    ],\n",
    ")\n",
    "\n",
    "train_loss, train_acc = model.evaluate(x_train, y_train)\n",
    "test_loss, test_acc = model.evaluate(x_test, y_test)\n",
    "\n",
    "print(\"Train accuracy:\", train_acc)\n",
    "print(\"Test accuracy:\", test_acc)\n"
   ]
  },
  {
   "cell_type": "markdown",
   "metadata": {},
   "source": [
    "PART 2- Use VGG16 as base"
   ]
  },
  {
   "cell_type": "code",
   "execution_count": null,
   "metadata": {},
   "outputs": [],
   "source": []
  }
 ],
 "metadata": {
  "kernelspec": {
   "display_name": "Python 3",
   "language": "python",
   "name": "python3"
  },
  "language_info": {
   "codemirror_mode": {
    "name": "ipython",
    "version": 3
   },
   "file_extension": ".py",
   "mimetype": "text/x-python",
   "name": "python",
   "nbconvert_exporter": "python",
   "pygments_lexer": "ipython3",
   "version": "3.11.9"
  }
 },
 "nbformat": 4,
 "nbformat_minor": 2
}
