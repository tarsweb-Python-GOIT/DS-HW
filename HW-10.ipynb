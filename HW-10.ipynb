{
 "cells": [
  {
   "cell_type": "code",
   "execution_count": 1,
   "metadata": {},
   "outputs": [],
   "source": [
    "import keras as k\n",
    "import tensorflow as tf\n",
    "\n",
    "import matplotlib.pyplot as plt\n",
    "import seaborn as sns\n",
    "\n",
    "import numpy as np\n",
    "import pandas as pd\n",
    "\n",
    "from sklearn.metrics import confusion_matrix, classification_report"
   ]
  },
  {
   "cell_type": "code",
   "execution_count": null,
   "metadata": {},
   "outputs": [],
   "source": [
    "def plot_history(hst, title = ''):\n",
    "    plt.figure(figsize=(13, 4))\n",
    "\n",
    "    plt.subplot(1, 2, 1)\n",
    "    plt.plot(hst.history['loss'], label='train')\n",
    "    plt.plot(hst.history['val_loss'], label='test')\n",
    "    plt.title('Loss')\n",
    "    plt.legend()\n",
    "    plt.grid()\n",
    "\n",
    "    plt.subplot(1, 2, 2)\n",
    "    plt.plot([round(100*e, 2) for e in hst.history['accuracy']], label='train')\n",
    "    plt.plot([round(100*e, 2) for e in hst.history['val_accuracy']], label='test')\n",
    "    plt.title('Accuracy')\n",
    "\n",
    "    plt.ylim(0, 100)\n",
    "    plt.legend()\n",
    "    plt.grid()\n",
    "\n",
    "    plt.tight_layout()\n",
    "\n",
    "    plt.suptitle(title)\n",
    "    plt.show()"
   ]
  },
  {
   "cell_type": "code",
   "execution_count": 2,
   "metadata": {},
   "outputs": [],
   "source": [
    "from keras.datasets import fashion_mnist\n",
    "labels = ['T-shirt/top', 'Trouser', 'Pullover', 'Dress', 'Coat', 'Sandal', 'Shirt', 'Sneaker', 'Bag', 'Ankle boot']"
   ]
  },
  {
   "cell_type": "code",
   "execution_count": 3,
   "metadata": {},
   "outputs": [],
   "source": [
    "(x_train, y_train), (x_test, y_test) = fashion_mnist.load_data()\n",
    "\n",
    "x_train = x_train.reshape(x_train.shape[0], 28, 28, 1)\n",
    "x_test = x_test.reshape(x_test.shape[0], 28, 28, 1)\n",
    "\n",
    "x_train = x_train.astype('float32')/255\n",
    "x_test = x_test.astype('float32')/255"
   ]
  },
  {
   "cell_type": "markdown",
   "metadata": {},
   "source": [
    "PART 1 - Create Сonvolutional Neural Network"
   ]
  },
  {
   "cell_type": "code",
   "execution_count": 5,
   "metadata": {},
   "outputs": [
    {
     "ename": "SyntaxError",
     "evalue": "invalid syntax. Perhaps you forgot a comma? (2631217333.py, line 6)",
     "output_type": "error",
     "traceback": [
      "\u001b[1;36m  Cell \u001b[1;32mIn[5], line 6\u001b[1;36m\u001b[0m\n\u001b[1;33m    k.layers.Dense(10, activation = 'softmax', name = 'Output')\u001b[0m\n\u001b[1;37m    ^\u001b[0m\n\u001b[1;31mSyntaxError\u001b[0m\u001b[1;31m:\u001b[0m invalid syntax. Perhaps you forgot a comma?\n"
     ]
    }
   ],
   "source": [
    "model_hw_09 = k.models.Sequential([\n",
    "      k.layers.Flatten(input_shape = (28, 28, 1), name = 'Input'),\n",
    "      k.layers.Dense(128, activation = 'relu', name = 'Hidden_1'),\n",
    "      k.layers.Dropout(0.3),\n",
    "      k.layers.Dense(256, activation = 'softplus', name = 'Hidden_2'),\n",
    "      k.layers.Dense(10, activation = 'softmax', name = 'Output'),\n",
    "      name = 'model_hw_09'\n",
    "  ])\n",
    "\n",
    "model_hw_09.compile(\n",
    "      loss= k.losses.SparseCategoricalCrossentropy(from_logits=True),\n",
    "      optimizer=k.optimizers.Nadam(learning_rate=0.0002),\n",
    "      metrics=['accuracy']\n",
    "    )\n",
    "\n",
    "model_hw_09.fit(\n",
    "        x_train,\n",
    "        y_train,\n",
    "        epochs=15,\n",
    "        batch_size=64,\n",
    "        validation_data=(x_test, y_test),\n",
    "        verbose=1,\n",
    "        callbacks=[\n",
    "            k.callbacks.EarlyStopping(\n",
    "                monitor=\"val_accuracy\", patience=3, restore_best_weights=True\n",
    "            ),\n",
    "            k.callbacks.EarlyStopping(\n",
    "                monitor=\"val_loss\", patience=3, restore_best_weights=True\n",
    "            ),\n",
    "        ],\n",
    "    )\n",
    "\n",
    "train_loss, train_acc = model_hw_09.evaluate(x_train, y_train)\n",
    "test_loss, test_acc = model_hw_09.evaluate(x_test, y_test)\n",
    "\n",
    "print(\"Train accuracy:\", train_acc)\n",
    "print(\"Test accuracy:\", test_acc)\n"
   ]
  },
  {
   "cell_type": "markdown",
   "metadata": {},
   "source": [
    "PART 2- Use VGG16 as base"
   ]
  },
  {
   "cell_type": "code",
   "execution_count": null,
   "metadata": {},
   "outputs": [],
   "source": []
  }
 ],
 "metadata": {
  "kernelspec": {
   "display_name": "Python 3",
   "language": "python",
   "name": "python3"
  },
  "language_info": {
   "codemirror_mode": {
    "name": "ipython",
    "version": 3
   },
   "file_extension": ".py",
   "mimetype": "text/x-python",
   "name": "python",
   "nbconvert_exporter": "python",
   "pygments_lexer": "ipython3",
   "version": "3.11.9"
  }
 },
 "nbformat": 4,
 "nbformat_minor": 2
}
