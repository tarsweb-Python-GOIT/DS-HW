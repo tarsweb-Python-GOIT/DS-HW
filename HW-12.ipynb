{
 "cells": [
  {
   "cell_type": "markdown",
   "metadata": {},
   "source": [
    "Зробіть summary нижчевказаного тексту використовуючи бібліотеки для NLP: nltk та SpaCy"
   ]
  },
  {
   "cell_type": "markdown",
   "metadata": {},
   "source": [
    "The Orbiter Discovery, OV-103, is considered eligible for listing in the National Register of Historic Places (NRHP) in the context of the U.S. Space Shuttle Program (1969-2011) under Criterion A in the areas of Space Exploration and Transportation and under Criterion C in the area of Engineering. Because it has achieved significance within the past fifty years, Criteria Consideration G applies. Under Criterion A, Discovery is significant as the oldest of the three extant orbiter vehicles constructed for the Space Shuttle Program (SSP), the longest running American space program to date; she was the third of five orbiters built by NASA. Unlike the Mercury, Gemini, and Apollo programs, the SSP’s emphasis was on cost effectiveness and reusability, and eventually the construction of a space station. Including her maiden voyage (launched August 30, 1984), Discovery flew to space thirty-nine times, more than any of the other four orbiters; she was also the first orbiter to fly twenty missions. She had the honor of being chosen as the Return to Flight vehicle after both the Challenger and Columbia accidents. Discovery was the first shuttle to fly with the redesigned SRBs, a result of the Challenger accident, and the first shuttle to fly with the Phase II and Block I SSME. Discovery also carried the Hubble Space Telescope to orbit and performed two of the five servicing missions to the observatory. She flew the first and last dedicated Department of Defense (DoD) missions, as well as the first unclassified defense-related mission. In addition, Discovery was vital to the construction of the International Space Station (ISS); she flew thirteen of the thirty-seven total missions flown to the station by a U.S. Space Shuttle. She was the first orbiter to dock to the ISS, and the first to perform an exchange of a resident crew. Under Criterion C, Discovery is significant as a feat of engineering. According to Wayne Hale, a flight director from Johnson Space Center, the Space Shuttle orbiter represents a “huge technological leap from expendable rockets and capsules to a reusable, winged, hypersonic, cargo-carrying spacecraft.” Although her base structure followed a conventional aircraft design, she used advanced materials that both minimized her weight for cargo-carrying purposes and featured low thermal expansion ratios, which provided a stable base for her Thermal Protection System (TPS) materials. The Space Shuttle orbiter also featured the first reusable TPS; all previous spaceflight vehicles had a single-use, ablative heat shield. Other notable engineering achievements of the orbiter included the first reusable orbital propulsion system, and the first two-fault-tolerant Integrated Avionics System. As Hale stated, the Space Shuttle remains “the largest, fastest, winged hypersonic aircraft in history,” having regularly flown at twenty-five times the speed of sound.\n"
   ]
  },
  {
   "cell_type": "code",
   "execution_count": 1,
   "metadata": {},
   "outputs": [],
   "source": [
    "text = \"\"\"The Orbiter Discovery, OV-103, is considered eligible for listing in the National Register of Historic Places (NRHP) in the context of the U.S. Space Shuttle Program (1969-2011) under Criterion A in the areas of Space Exploration and Transportation and under Criterion C in the area of Engineering. Because it has achieved significance within the past fifty years, Criteria Consideration G applies. Under Criterion A, Discovery is significant as the oldest of the three extant orbiter vehicles constructed for the Space Shuttle Program (SSP), the longest running American space program to date; she was the third of five orbiters built by NASA. Unlike the Mercury, Gemini, and Apollo programs, the SSP’s emphasis was on cost effectiveness and reusability, and eventually the construction of a space station. Including her maiden voyage (launched August 30, 1984), Discovery flew to space thirty-nine times, more than any of the other four orbiters; she was also the first orbiter to fly twenty missions. She had the honor of being chosen as the Return to Flight vehicle after both the Challenger and Columbia accidents. Discovery was the first shuttle to fly with the redesigned SRBs, a result of the Challenger accident, and the first shuttle to fly with the Phase II and Block I SSME. Discovery also carried the Hubble Space Telescope to orbit and performed two of the five servicing missions to the observatory. She flew the first and last dedicated Department of Defense (DoD) missions, as well as the first unclassified defense-related mission. In addition, Discovery was vital to the construction of the International Space Station (ISS); she flew thirteen of the thirty-seven total missions flown to the station by a U.S. Space Shuttle. She was the first orbiter to dock to the ISS, and the first to perform an exchange of a resident crew. Under Criterion C, Discovery is significant as a feat of engineering. According to Wayne Hale, a flight director from Johnson Space Center, the Space Shuttle orbiter represents a “huge technological leap from expendable rockets and capsules to a reusable, winged, hypersonic, cargo-carrying spacecraft.” Although her base structure followed a conventional aircraft design, she used advanced materials that both minimized her weight for cargo-carrying purposes and featured low thermal expansion ratios, which provided a stable base for her Thermal Protection System (TPS) materials. The Space Shuttle orbiter also featured the first reusable TPS; all previous spaceflight vehicles had a single-use, ablative heat shield. Other notable engineering achievements of the orbiter included the first reusable orbital propulsion system, and the first two-fault-tolerant Integrated Avionics System. As Hale stated, the Space Shuttle remains “the largest, fastest, winged hypersonic aircraft in history,” having regularly flown at twenty-five times the speed of sound.\n",
    " \"\"\""
   ]
  },
  {
   "cell_type": "code",
   "execution_count": 2,
   "metadata": {},
   "outputs": [],
   "source": [
    "from heapq import nlargest"
   ]
  },
  {
   "cell_type": "code",
   "execution_count": 3,
   "metadata": {},
   "outputs": [],
   "source": [
    "\n",
    "text = \" \".join(text.split('\\n'))"
   ]
  },
  {
   "cell_type": "markdown",
   "metadata": {},
   "source": [
    "## Use spaCy"
   ]
  },
  {
   "cell_type": "code",
   "execution_count": 4,
   "metadata": {},
   "outputs": [],
   "source": [
    "import spacy\n",
    "\n",
    "nlp = spacy.load('en_core_web_sm')"
   ]
  },
  {
   "cell_type": "code",
   "execution_count": 5,
   "metadata": {},
   "outputs": [],
   "source": [
    "from string import punctuation\n",
    "\n",
    "spacy_punctuation = set(str(symbol) for symbol in nlp(\" \".join([symbol for symbol in punctuation])) if symbol.is_punct)\n"
   ]
  },
  {
   "cell_type": "markdown",
   "metadata": {},
   "source": [
    "Підготовка тексту"
   ]
  },
  {
   "cell_type": "code",
   "execution_count": 6,
   "metadata": {},
   "outputs": [
    {
     "name": "stdout",
     "output_type": "stream",
     "text": [
      "Tokens :  ['The', 'Orbiter', 'Discovery', ',', 'OV-103', ',', 'is', 'considered', 'eligible', 'for', 'listing', 'in', 'the', 'National', 'Register', 'of', 'Historic', 'Places', '(', 'NRHP', ')', 'in', 'the', 'context', 'of', 'the', 'U.S.', 'Space', 'Shuttle', 'Program', '(', '1969', '-', '2011', ')', 'under', 'Criterion', 'A', 'in', 'the', 'areas', 'of', 'Space', 'Exploration', 'and', 'Transportation', 'and', 'under', 'Criterion', 'C', 'in', 'the', 'area', 'of', 'Engineering', '.', 'Because', 'it', 'has', 'achieved', 'significance', 'within', 'the', 'past', 'fifty', 'years', ',', 'Criteria', 'Consideration', 'G', 'applies', '.', 'Under', 'Criterion', 'A', ',', 'Discovery', 'is', 'significant', 'as', 'the', 'oldest', 'of', 'the', 'three', 'extant', 'orbiter', 'vehicles', 'constructed', 'for', 'the', 'Space', 'Shuttle', 'Program', '(', 'SSP', ')', ',', 'the', 'longest', 'running', 'American', 'space', 'program', 'to', 'date', ';', 'she', 'was', 'the', 'third', 'of', 'five', 'orbiters', 'built', 'by', 'NASA', '.', 'Unlike', 'the', 'Mercury', ',', 'Gemini', ',', 'and', 'Apollo', 'programs', ',', 'the', 'SSP', '’s', 'emphasis', 'was', 'on', 'cost', 'effectiveness', 'and', 'reusability', ',', 'and', 'eventually', 'the', 'construction', 'of', 'a', 'space', 'station', '.', 'Including', 'her', 'maiden', 'voyage', '(', 'launched', 'August', '30', ',', '1984', ')', ',', 'Discovery', 'flew', 'to', 'space', 'thirty', '-', 'nine', 'times', ',', 'more', 'than', 'any', 'of', 'the', 'other', 'four', 'orbiters', ';', 'she', 'was', 'also', 'the', 'first', 'orbiter', 'to', 'fly', 'twenty', 'missions', '.', 'She', 'had', 'the', 'honor', 'of', 'being', 'chosen', 'as', 'the', 'Return', 'to', 'Flight', 'vehicle', 'after', 'both', 'the', 'Challenger', 'and', 'Columbia', 'accidents', '.', 'Discovery', 'was', 'the', 'first', 'shuttle', 'to', 'fly', 'with', 'the', 'redesigned', 'SRBs', ',', 'a', 'result', 'of', 'the', 'Challenger', 'accident', ',', 'and', 'the', 'first', 'shuttle', 'to', 'fly', 'with', 'the', 'Phase', 'II', 'and', 'Block', 'I', 'SSME', '.', 'Discovery', 'also', 'carried', 'the', 'Hubble', 'Space', 'Telescope', 'to', 'orbit', 'and', 'performed', 'two', 'of', 'the', 'five', 'servicing', 'missions', 'to', 'the', 'observatory', '.', 'She', 'flew', 'the', 'first', 'and', 'last', 'dedicated', 'Department', 'of', 'Defense', '(', 'DoD', ')', 'missions', ',', 'as', 'well', 'as', 'the', 'first', 'unclassified', 'defense', '-', 'related', 'mission', '.', 'In', 'addition', ',', 'Discovery', 'was', 'vital', 'to', 'the', 'construction', 'of', 'the', 'International', 'Space', 'Station', '(', 'ISS', ')', ';', 'she', 'flew', 'thirteen', 'of', 'the', 'thirty', '-', 'seven', 'total', 'missions', 'flown', 'to', 'the', 'station', 'by', 'a', 'U.S.', 'Space', 'Shuttle', '.', 'She', 'was', 'the', 'first', 'orbiter', 'to', 'dock', 'to', 'the', 'ISS', ',', 'and', 'the', 'first', 'to', 'perform', 'an', 'exchange', 'of', 'a', 'resident', 'crew', '.', 'Under', 'Criterion', 'C', ',', 'Discovery', 'is', 'significant', 'as', 'a', 'feat', 'of', 'engineering', '.', 'According', 'to', 'Wayne', 'Hale', ',', 'a', 'flight', 'director', 'from', 'Johnson', 'Space', 'Center', ',', 'the', 'Space', 'Shuttle', 'orbiter', 'represents', 'a', '“', 'huge', 'technological', 'leap', 'from', 'expendable', 'rockets', 'and', 'capsules', 'to', 'a', 'reusable', ',', 'winged', ',', 'hypersonic', ',', 'cargo', '-', 'carrying', 'spacecraft', '.', '”', 'Although', 'her', 'base', 'structure', 'followed', 'a', 'conventional', 'aircraft', 'design', ',', 'she', 'used', 'advanced', 'materials', 'that', 'both', 'minimized', 'her', 'weight', 'for', 'cargo', '-', 'carrying', 'purposes', 'and', 'featured', 'low', 'thermal', 'expansion', 'ratios', ',', 'which', 'provided', 'a', 'stable', 'base', 'for', 'her', 'Thermal', 'Protection', 'System', '(', 'TPS', ')', 'materials', '.', 'The', 'Space', 'Shuttle', 'orbiter', 'also', 'featured', 'the', 'first', 'reusable', 'TPS', ';', 'all', 'previous', 'spaceflight', 'vehicles', 'had', 'a', 'single', '-', 'use', ',', 'ablative', 'heat', 'shield', '.', 'Other', 'notable', 'engineering', 'achievements', 'of', 'the', 'orbiter', 'included', 'the', 'first', 'reusable', 'orbital', 'propulsion', 'system', ',', 'and', 'the', 'first', 'two', '-', 'fault', '-', 'tolerant', 'Integrated', 'Avionics', 'System', '.', 'As', 'Hale', 'stated', ',', 'the', 'Space', 'Shuttle', 'remains', '“', 'the', 'largest', ',', 'fastest', ',', 'winged', 'hypersonic', 'aircraft', 'in', 'history', ',', '”', 'having', 'regularly', 'flown', 'at', 'twenty', '-', 'five', 'times', 'the', 'speed', 'of', 'sound', '.', ' ']\n",
      "Sentences : [The Orbiter Discovery, OV-103, is considered eligible for listing in the National Register of Historic Places (NRHP) in the context of the U.S. Space Shuttle Program (1969-2011) under Criterion A in the areas of Space Exploration and Transportation and under Criterion C in the area of Engineering., Because it has achieved significance within the past fifty years, Criteria Consideration G applies., Under Criterion A, Discovery is significant as the oldest of the three extant orbiter vehicles constructed for the Space Shuttle Program (SSP), the longest running American space program to date; she was the third of five orbiters built by NASA., Unlike the Mercury, Gemini, and Apollo programs, the SSP’s emphasis was on cost effectiveness and reusability, and eventually the construction of a space station., Including her maiden voyage (launched August 30, 1984), Discovery flew to space thirty-nine times, more than any of the other four orbiters; she was also the first orbiter to fly twenty missions., She had the honor of being chosen as the Return to Flight vehicle after both the Challenger and Columbia accidents., Discovery was the first shuttle to fly with the redesigned SRBs, a result of the Challenger accident, and the first shuttle to fly with the Phase II and Block I SSME., Discovery also carried the Hubble Space Telescope to orbit and performed two of the five servicing missions to the observatory., She flew the first and last dedicated Department of Defense (DoD) missions, as well as the first unclassified defense-related mission., In addition, Discovery was vital to the construction of the International Space Station (ISS); she flew thirteen of the thirty-seven total missions flown to the station by a U.S. Space Shuttle., She was the first orbiter to dock to the ISS, and the first to perform an exchange of a resident crew., Under Criterion C, Discovery is significant as a feat of engineering., According to Wayne Hale, a flight director from Johnson Space Center, the Space Shuttle orbiter represents a “huge technological leap from expendable rockets and capsules to a reusable, winged, hypersonic, cargo-carrying spacecraft.”, Although her base structure followed a conventional aircraft design, she used advanced materials that both minimized her weight for cargo-carrying purposes and featured low thermal expansion ratios, which provided a stable base for her Thermal Protection System (TPS) materials., The Space Shuttle orbiter also featured the first reusable TPS; all previous spaceflight vehicles had a single-use, ablative heat shield., Other notable engineering achievements of the orbiter included the first reusable orbital propulsion system, and the first two-fault-tolerant Integrated Avionics System., As Hale stated, the Space Shuttle remains “the largest, fastest, winged hypersonic aircraft in history,” having regularly flown at twenty-five times the speed of sound.  ]\n",
      "Sentences len : 17\n",
      "Punctuation :  {'\"', '{', '}', '@', '%', '(', '-', '#', '\\\\', ',', '/', '_', '?', ':', '[', '*', ';', '!', \"'\", '&', '.', ')', ']'}\n",
      "Stop words {'thus', 'cannot', 'various', 'give', 'ourselves', 'another', 'hereupon', 'mine', 'is', 'few', 'a', 'should', 'elsewhere', 'hundred', 'once', 'whence', 'towards', 'perhaps', 'seem', 'due', 'anyone', 'eight', 'regarding', 'beside', 'very', 'eleven', 'not', 'whose', 'the', 'that', '‘m', 'themselves', 'would', 'each', 'his', 'several', 'almost', 'than', 'here', 'behind', 'some', \"'d\", 'off', 'only', 'full', 'front', 'hence', 'nor', 'still', 'everyone', 'six', 'becomes', 'further', 'take', 'thereupon', 'whereafter', 'via', 'amongst', 'per', 'name', 'both', 'after', 'our', 'quite', 'less', 'herself', 'you', 'did', 'from', 'none', '’re', 'every', 'except', 'him', 'really', 'one', 'never', 'on', 'hereby', 'whither', 'but', 'could', 'in', 'top', 'became', 'beforehand', 'we', 'twenty', 'i', 'put', 'whether', '’d', 'it', 'of', 'seemed', 'can', 'how', 'while', 'your', 'see', 'then', 'up', 'and', 'former', 'her', 'alone', 'with', 'am', 'anywhere', 'thereafter', 'using', 'its', 'rather', 'does', 'side', 'why', 'mostly', 'hers', 'amount', 'yourselves', 'thence', 'anyhow', 'within', 'four', 'this', 'often', 'too', 'back', 'yours', 'go', 're', 'no', 'across', 'done', 'ten', 'nevertheless', 'move', 'into', 'call', 'itself', 'even', 'together', 'last', 'onto', 'many', 'must', 'us', 'were', 'say', 'sometimes', 'n‘t', 'just', 'moreover', 'serious', '‘ve', 'beyond', 'n’t', 'anything', 'was', 'me', 'someone', 'much', 'please', 'others', 'they', '‘re', 'fifteen', '’m', 'doing', '’ve', 'are', 'be', 'most', '’s', 'to', 'whatever', 'other', 'something', 'during', 'forty', 'them', 'been', 'two', 'whereupon', 'an', 'afterwards', 'might', 'wherein', 'along', 'twelve', 'now', 'bottom', 'as', 'latterly', 'least', 'may', 'whole', 'all', 'sixty', 'whereas', 'well', 'such', 'thereby', 'my', 'nobody', 'same', 'at', 'again', 'had', 'myself', 'she', 'so', 'else', 'have', 'throughout', 'has', 'or', 'above', 'although', 'somehow', 'enough', 'yourself', 'whenever', 'already', 'these', 'by', 'also', 'formerly', 'their', 'he', 'since', 'without', 'make', 'whereby', 'for', 'indeed', \"'ve\", 'seems', 'where', \"'re\", 'if', 'next', 'hereafter', 'neither', 'thru', 'nowhere', 'otherwise', 'becoming', 'therefore', 'will', 'ours', 'out', 'who', 'whoever', 'ca', 'get', 'wherever', 'around', 'part', \"'ll\", 'about', 'under', 'do', 'first', 'own', 'against', 'ever', 'any', 'being', 'everything', 'herein', 'besides', '‘ll', 'whom', 'unless', 'himself', '‘d', 'always', 'nothing', 'before', 'fifty', \"n't\", 'namely', 'between', 'five', '‘s', 'however', 'somewhere', 'until', 'those', 'when', 'become', 'meanwhile', 'sometime', 'used', 'upon', 'made', 'down', 'noone', 'anyway', 'below', 'latter', 'over', 'keep', 'yet', 'toward', 'through', 'seeming', 'show', 'nine', 'among', \"'m\", 'three', 'therein', 'which', 'though', 'what', 'third', \"'s\", 'everywhere', 'there', '’ll', 'either', 'more', 'because', 'empty'}\n",
      "Stop words len 326\n"
     ]
    }
   ],
   "source": [
    "# Токенізація\n",
    "doc = nlp(text)\n",
    "tokens = [token.text for token in doc]\n",
    "sentences = list(doc.sents)\n",
    "\n",
    "print(\"Tokens : \", tokens)\n",
    "print(\"Sentences :\", sentences)\n",
    "print(\"Sentences len :\", len(sentences))\n",
    "\n",
    "print(\"Punctuation : \", spacy_punctuation)\n",
    "\n",
    "print(\"Stop words\", spacy.lang.en.STOP_WORDS)\n",
    "print(\"Stop words len\", len(spacy.lang.en.STOP_WORDS))\n"
   ]
  },
  {
   "cell_type": "code",
   "execution_count": 7,
   "metadata": {},
   "outputs": [],
   "source": [
    "word_frequencies = {}\n",
    "for word in doc:\n",
    "  word_lower = word.text.lower()\n",
    "  if word.is_stop or word.is_punct or word.is_space :\n",
    "    continue\n",
    "  word_frequencies.setdefault(word_lower, 0)\n",
    "  word_frequencies[word_lower] += 1"
   ]
  },
  {
   "cell_type": "code",
   "execution_count": 8,
   "metadata": {},
   "outputs": [
    {
     "data": {
      "text/plain": [
       "[('space', 13),\n",
       " ('shuttle', 8),\n",
       " ('orbiter', 7),\n",
       " ('discovery', 7),\n",
       " ('criterion', 4),\n",
       " ('missions', 4),\n",
       " ('program', 3),\n",
       " ('engineering', 3),\n",
       " ('station', 3),\n",
       " ('flew', 3),\n",
       " ('fly', 3),\n",
       " ('reusable', 3),\n",
       " ('system', 3),\n",
       " ('u.s.', 2),\n",
       " ('c', 2),\n",
       " ('significant', 2),\n",
       " ('vehicles', 2),\n",
       " ('ssp', 2),\n",
       " ('orbiters', 2),\n",
       " ('construction', 2),\n",
       " ('thirty', 2),\n",
       " ('times', 2),\n",
       " ('flight', 2),\n",
       " ('challenger', 2),\n",
       " ('defense', 2),\n",
       " ('iss', 2),\n",
       " ('flown', 2),\n",
       " ('hale', 2),\n",
       " ('winged', 2),\n",
       " ('hypersonic', 2),\n",
       " ('cargo', 2),\n",
       " ('carrying', 2),\n",
       " ('base', 2),\n",
       " ('aircraft', 2),\n",
       " ('materials', 2),\n",
       " ('featured', 2),\n",
       " ('thermal', 2),\n",
       " ('tps', 2),\n",
       " ('ov-103', 1),\n",
       " ('considered', 1),\n",
       " ('eligible', 1),\n",
       " ('listing', 1),\n",
       " ('national', 1),\n",
       " ('register', 1),\n",
       " ('historic', 1),\n",
       " ('places', 1),\n",
       " ('nrhp', 1),\n",
       " ('context', 1),\n",
       " ('1969', 1),\n",
       " ('2011', 1),\n",
       " ('areas', 1),\n",
       " ('exploration', 1),\n",
       " ('transportation', 1),\n",
       " ('area', 1),\n",
       " ('achieved', 1),\n",
       " ('significance', 1),\n",
       " ('past', 1),\n",
       " ('years', 1),\n",
       " ('criteria', 1),\n",
       " ('consideration', 1),\n",
       " ('g', 1),\n",
       " ('applies', 1),\n",
       " ('oldest', 1),\n",
       " ('extant', 1),\n",
       " ('constructed', 1),\n",
       " ('longest', 1),\n",
       " ('running', 1),\n",
       " ('american', 1),\n",
       " ('date', 1),\n",
       " ('built', 1),\n",
       " ('nasa', 1),\n",
       " ('unlike', 1),\n",
       " ('mercury', 1),\n",
       " ('gemini', 1),\n",
       " ('apollo', 1),\n",
       " ('programs', 1),\n",
       " ('emphasis', 1),\n",
       " ('cost', 1),\n",
       " ('effectiveness', 1),\n",
       " ('reusability', 1),\n",
       " ('eventually', 1),\n",
       " ('including', 1),\n",
       " ('maiden', 1),\n",
       " ('voyage', 1),\n",
       " ('launched', 1),\n",
       " ('august', 1),\n",
       " ('30', 1),\n",
       " ('1984', 1),\n",
       " ('honor', 1),\n",
       " ('chosen', 1),\n",
       " ('return', 1),\n",
       " ('vehicle', 1),\n",
       " ('columbia', 1),\n",
       " ('accidents', 1),\n",
       " ('redesigned', 1),\n",
       " ('srbs', 1),\n",
       " ('result', 1),\n",
       " ('accident', 1),\n",
       " ('phase', 1),\n",
       " ('ii', 1),\n",
       " ('block', 1),\n",
       " ('ssme', 1),\n",
       " ('carried', 1),\n",
       " ('hubble', 1),\n",
       " ('telescope', 1),\n",
       " ('orbit', 1),\n",
       " ('performed', 1),\n",
       " ('servicing', 1),\n",
       " ('observatory', 1),\n",
       " ('dedicated', 1),\n",
       " ('department', 1),\n",
       " ('dod', 1),\n",
       " ('unclassified', 1),\n",
       " ('related', 1),\n",
       " ('mission', 1),\n",
       " ('addition', 1),\n",
       " ('vital', 1),\n",
       " ('international', 1),\n",
       " ('thirteen', 1),\n",
       " ('seven', 1),\n",
       " ('total', 1),\n",
       " ('dock', 1),\n",
       " ('perform', 1),\n",
       " ('exchange', 1),\n",
       " ('resident', 1),\n",
       " ('crew', 1),\n",
       " ('feat', 1),\n",
       " ('according', 1),\n",
       " ('wayne', 1),\n",
       " ('director', 1),\n",
       " ('johnson', 1),\n",
       " ('center', 1),\n",
       " ('represents', 1),\n",
       " ('huge', 1),\n",
       " ('technological', 1),\n",
       " ('leap', 1),\n",
       " ('expendable', 1),\n",
       " ('rockets', 1),\n",
       " ('capsules', 1),\n",
       " ('spacecraft', 1),\n",
       " ('structure', 1),\n",
       " ('followed', 1),\n",
       " ('conventional', 1),\n",
       " ('design', 1),\n",
       " ('advanced', 1),\n",
       " ('minimized', 1),\n",
       " ('weight', 1),\n",
       " ('purposes', 1),\n",
       " ('low', 1),\n",
       " ('expansion', 1),\n",
       " ('ratios', 1),\n",
       " ('provided', 1),\n",
       " ('stable', 1),\n",
       " ('protection', 1),\n",
       " ('previous', 1),\n",
       " ('spaceflight', 1),\n",
       " ('single', 1),\n",
       " ('use', 1),\n",
       " ('ablative', 1),\n",
       " ('heat', 1),\n",
       " ('shield', 1),\n",
       " ('notable', 1),\n",
       " ('achievements', 1),\n",
       " ('included', 1),\n",
       " ('orbital', 1),\n",
       " ('propulsion', 1),\n",
       " ('fault', 1),\n",
       " ('tolerant', 1),\n",
       " ('integrated', 1),\n",
       " ('avionics', 1),\n",
       " ('stated', 1),\n",
       " ('remains', 1),\n",
       " ('largest', 1),\n",
       " ('fastest', 1),\n",
       " ('history', 1),\n",
       " ('having', 1),\n",
       " ('regularly', 1),\n",
       " ('speed', 1),\n",
       " ('sound', 1)]"
      ]
     },
     "execution_count": 8,
     "metadata": {},
     "output_type": "execute_result"
    }
   ],
   "source": [
    "sorted(word_frequencies.items(), key=lambda x: x[1], reverse=True)"
   ]
  },
  {
   "cell_type": "code",
   "execution_count": 9,
   "metadata": {},
   "outputs": [],
   "source": [
    "sentence_scores = {}\n",
    "for sentence in sentences:\n",
    "    sentence_scores[sentence] = sum(word_frequencies.get(word.text.lower(), 0) for word in sentence)"
   ]
  },
  {
   "cell_type": "code",
   "execution_count": 10,
   "metadata": {},
   "outputs": [
    {
     "name": "stdout",
     "output_type": "stream",
     "text": [
      "(The Orbiter Discovery, OV-103, is considered eligible for listing in the National Register of Historic Places (NRHP) in the context of the U.S. Space Shuttle Program (1969-2011) under Criterion A in the areas of Space Exploration and Transportation and under Criterion C in the area of Engineering., 82)\n",
      "(Under Criterion A, Discovery is significant as the oldest of the three extant orbiter vehicles constructed for the Space Shuttle Program (SSP), the longest running American space program to date; she was the third of five orbiters built by NASA., 75)\n",
      "(In addition, Discovery was vital to the construction of the International Space Station (ISS); she flew thirteen of the thirty-seven total missions flown to the station by a U.S. Space Shuttle., 70)\n",
      "(According to Wayne Hale, a flight director from Johnson Space Center, the Space Shuttle orbiter represents a “huge technological leap from expendable rockets and capsules to a reusable, winged, hypersonic, cargo-carrying spacecraft.”, 69)\n",
      "(Including her maiden voyage (launched August 30, 1984), Discovery flew to space thirty-nine times, more than any of the other four orbiters; she was also the first orbiter to fly twenty missions., 50)\n",
      "(The Space Shuttle orbiter also featured the first reusable TPS; all previous spaceflight vehicles had a single-use, ablative heat shield., 44)\n",
      "(As Hale stated, the Space Shuttle remains “the largest, fastest, winged hypersonic aircraft in history,” having regularly flown at twenty-five times the speed of sound.  , 42)\n",
      "(Discovery was the first shuttle to fly with the redesigned SRBs, a result of the Challenger accident, and the first shuttle to fly with the Phase II and Block I SSME., 39)\n",
      "(Although her base structure followed a conventional aircraft design, she used advanced materials that both minimized her weight for cargo-carrying purposes and featured low thermal expansion ratios, which provided a stable base for her Thermal Protection System (TPS) materials., 39)\n",
      "(Discovery also carried the Hubble Space Telescope to orbit and performed two of the five servicing missions to the observatory., 31)\n",
      "(Unlike the Mercury, Gemini, and Apollo programs, the SSP’s emphasis was on cost effectiveness and reusability, and eventually the construction of a space station., 30)\n",
      "(Other notable engineering achievements of the orbiter included the first reusable orbital propulsion system, and the first two-fault-tolerant Integrated Avionics System., 28)\n",
      "(Under Criterion C, Discovery is significant as a feat of engineering., 19)\n",
      "(She flew the first and last dedicated Department of Defense (DoD) missions, as well as the first unclassified defense-related mission., 17)\n",
      "(She was the first orbiter to dock to the ISS, and the first to perform an exchange of a resident crew., 14)\n",
      "(She had the honor of being chosen as the Return to Flight vehicle after both the Challenger and Columbia accidents., 10)\n",
      "(Because it has achieved significance within the past fifty years, Criteria Consideration G applies., 8)\n"
     ]
    }
   ],
   "source": [
    "print(*sorted(sentence_scores.items(), key=lambda x: x[1], reverse=True), sep='\\n')"
   ]
  },
  {
   "cell_type": "code",
   "execution_count": 11,
   "metadata": {},
   "outputs": [
    {
     "data": {
      "text/plain": [
       "[The Orbiter Discovery, OV-103, is considered eligible for listing in the National Register of Historic Places (NRHP) in the context of the U.S. Space Shuttle Program (1969-2011) under Criterion A in the areas of Space Exploration and Transportation and under Criterion C in the area of Engineering.,\n",
       " Under Criterion A, Discovery is significant as the oldest of the three extant orbiter vehicles constructed for the Space Shuttle Program (SSP), the longest running American space program to date; she was the third of five orbiters built by NASA.,\n",
       " In addition, Discovery was vital to the construction of the International Space Station (ISS); she flew thirteen of the thirty-seven total missions flown to the station by a U.S. Space Shuttle.,\n",
       " According to Wayne Hale, a flight director from Johnson Space Center, the Space Shuttle orbiter represents a “huge technological leap from expendable rockets and capsules to a reusable, winged, hypersonic, cargo-carrying spacecraft.”,\n",
       " Including her maiden voyage (launched August 30, 1984), Discovery flew to space thirty-nine times, more than any of the other four orbiters; she was also the first orbiter to fly twenty missions.]"
      ]
     },
     "execution_count": 11,
     "metadata": {},
     "output_type": "execute_result"
    }
   ],
   "source": [
    "summary_spaCy = nlargest(5, sentence_scores, key=sentence_scores.get)\n",
    "summary_spaCy"
   ]
  },
  {
   "cell_type": "markdown",
   "metadata": {},
   "source": [
    "## Use ntlk"
   ]
  },
  {
   "cell_type": "code",
   "execution_count": 12,
   "metadata": {},
   "outputs": [],
   "source": [
    "import nltk\n",
    "from nltk.corpus import stopwords\n",
    "from nltk.tokenize import word_tokenize, sent_tokenize, PunktTokenizer"
   ]
  },
  {
   "cell_type": "code",
   "execution_count": 13,
   "metadata": {},
   "outputs": [
    {
     "name": "stderr",
     "output_type": "stream",
     "text": [
      "[nltk_data] Downloading package punkt_tab to nltk_data...\n",
      "[nltk_data]   Package punkt_tab is already up-to-date!\n",
      "[nltk_data] Downloading package stopwords to nltk_data...\n",
      "[nltk_data]   Package stopwords is already up-to-date!\n"
     ]
    }
   ],
   "source": [
    "nltk.download('punkt_tab', download_dir='nltk_data')\n",
    "nltk.download('stopwords', download_dir='nltk_data')\n",
    "\n",
    "nltk.data.path.append('nltk_data')"
   ]
  },
  {
   "cell_type": "markdown",
   "metadata": {},
   "source": [
    "Підготовка тексту"
   ]
  },
  {
   "cell_type": "code",
   "execution_count": 122,
   "metadata": {},
   "outputs": [
    {
     "name": "stdout",
     "output_type": "stream",
     "text": [
      "Tokens :  ['The', 'Orbiter', 'Discovery', ',', 'OV-103', ',', 'is', 'considered', 'eligible', 'for', 'listing', 'in', 'the', 'National', 'Register', 'of', 'Historic', 'Places', '(', 'NRHP', ')', 'in', 'the', 'context', 'of', 'the', 'U.S.', 'Space', 'Shuttle', 'Program', '(', '1969-2011', ')', 'under', 'Criterion', 'A', 'in', 'the', 'areas', 'of', 'Space', 'Exploration', 'and', 'Transportation', 'and', 'under', 'Criterion', 'C', 'in', 'the', 'area', 'of', 'Engineering', '.', 'Because', 'it', 'has', 'achieved', 'significance', 'within', 'the', 'past', 'fifty', 'years', ',', 'Criteria', 'Consideration', 'G', 'applies', '.', 'Under', 'Criterion', 'A', ',', 'Discovery', 'is', 'significant', 'as', 'the', 'oldest', 'of', 'the', 'three', 'extant', 'orbiter', 'vehicles', 'constructed', 'for', 'the', 'Space', 'Shuttle', 'Program', '(', 'SSP', ')', ',', 'the', 'longest', 'running', 'American', 'space', 'program', 'to', 'date', ';', 'she', 'was', 'the', 'third', 'of', 'five', 'orbiters', 'built', 'by', 'NASA', '.', 'Unlike', 'the', 'Mercury', ',', 'Gemini', ',', 'and', 'Apollo', 'programs', ',', 'the', 'SSP', '’', 's', 'emphasis', 'was', 'on', 'cost', 'effectiveness', 'and', 'reusability', ',', 'and', 'eventually', 'the', 'construction', 'of', 'a', 'space', 'station', '.', 'Including', 'her', 'maiden', 'voyage', '(', 'launched', 'August', '30', ',', '1984', ')', ',', 'Discovery', 'flew', 'to', 'space', 'thirty-nine', 'times', ',', 'more', 'than', 'any', 'of', 'the', 'other', 'four', 'orbiters', ';', 'she', 'was', 'also', 'the', 'first', 'orbiter', 'to', 'fly', 'twenty', 'missions', '.', 'She', 'had', 'the', 'honor', 'of', 'being', 'chosen', 'as', 'the', 'Return', 'to', 'Flight', 'vehicle', 'after', 'both', 'the', 'Challenger', 'and', 'Columbia', 'accidents', '.', 'Discovery', 'was', 'the', 'first', 'shuttle', 'to', 'fly', 'with', 'the', 'redesigned', 'SRBs', ',', 'a', 'result', 'of', 'the', 'Challenger', 'accident', ',', 'and', 'the', 'first', 'shuttle', 'to', 'fly', 'with', 'the', 'Phase', 'II', 'and', 'Block', 'I', 'SSME', '.', 'Discovery', 'also', 'carried', 'the', 'Hubble', 'Space', 'Telescope', 'to', 'orbit', 'and', 'performed', 'two', 'of', 'the', 'five', 'servicing', 'missions', 'to', 'the', 'observatory', '.', 'She', 'flew', 'the', 'first', 'and', 'last', 'dedicated', 'Department', 'of', 'Defense', '(', 'DoD', ')', 'missions', ',', 'as', 'well', 'as', 'the', 'first', 'unclassified', 'defense-related', 'mission', '.', 'In', 'addition', ',', 'Discovery', 'was', 'vital', 'to', 'the', 'construction', 'of', 'the', 'International', 'Space', 'Station', '(', 'ISS', ')', ';', 'she', 'flew', 'thirteen', 'of', 'the', 'thirty-seven', 'total', 'missions', 'flown', 'to', 'the', 'station', 'by', 'a', 'U.S.', 'Space', 'Shuttle', '.', 'She', 'was', 'the', 'first', 'orbiter', 'to', 'dock', 'to', 'the', 'ISS', ',', 'and', 'the', 'first', 'to', 'perform', 'an', 'exchange', 'of', 'a', 'resident', 'crew', '.', 'Under', 'Criterion', 'C', ',', 'Discovery', 'is', 'significant', 'as', 'a', 'feat', 'of', 'engineering', '.', 'According', 'to', 'Wayne', 'Hale', ',', 'a', 'flight', 'director', 'from', 'Johnson', 'Space', 'Center', ',', 'the', 'Space', 'Shuttle', 'orbiter', 'represents', 'a', '“', 'huge', 'technological', 'leap', 'from', 'expendable', 'rockets', 'and', 'capsules', 'to', 'a', 'reusable', ',', 'winged', ',', 'hypersonic', ',', 'cargo-carrying', 'spacecraft.', '”', 'Although', 'her', 'base', 'structure', 'followed', 'a', 'conventional', 'aircraft', 'design', ',', 'she', 'used', 'advanced', 'materials', 'that', 'both', 'minimized', 'her', 'weight', 'for', 'cargo-carrying', 'purposes', 'and', 'featured', 'low', 'thermal', 'expansion', 'ratios', ',', 'which', 'provided', 'a', 'stable', 'base', 'for', 'her', 'Thermal', 'Protection', 'System', '(', 'TPS', ')', 'materials', '.', 'The', 'Space', 'Shuttle', 'orbiter', 'also', 'featured', 'the', 'first', 'reusable', 'TPS', ';', 'all', 'previous', 'spaceflight', 'vehicles', 'had', 'a', 'single-use', ',', 'ablative', 'heat', 'shield', '.', 'Other', 'notable', 'engineering', 'achievements', 'of', 'the', 'orbiter', 'included', 'the', 'first', 'reusable', 'orbital', 'propulsion', 'system', ',', 'and', 'the', 'first', 'two-fault-tolerant', 'Integrated', 'Avionics', 'System', '.', 'As', 'Hale', 'stated', ',', 'the', 'Space', 'Shuttle', 'remains', '“', 'the', 'largest', ',', 'fastest', ',', 'winged', 'hypersonic', 'aircraft', 'in', 'history', ',', '”', 'having', 'regularly', 'flown', 'at', 'twenty-five', 'times', 'the', 'speed', 'of', 'sound', '.']\n",
      "Sentences : ['The Orbiter Discovery, OV-103, is considered eligible for listing in the National Register of Historic Places (NRHP) in the context of the U.S. Space Shuttle Program (1969-2011) under Criterion A in the areas of Space Exploration and Transportation and under Criterion C in the area of Engineering.', 'Because it has achieved significance within the past fifty years, Criteria Consideration G applies.', 'Under Criterion A, Discovery is significant as the oldest of the three extant orbiter vehicles constructed for the Space Shuttle Program (SSP), the longest running American space program to date; she was the third of five orbiters built by NASA.', 'Unlike the Mercury, Gemini, and Apollo programs, the SSP’s emphasis was on cost effectiveness and reusability, and eventually the construction of a space station.', 'Including her maiden voyage (launched August 30, 1984), Discovery flew to space thirty-nine times, more than any of the other four orbiters; she was also the first orbiter to fly twenty missions.', 'She had the honor of being chosen as the Return to Flight vehicle after both the Challenger and Columbia accidents.', 'Discovery was the first shuttle to fly with the redesigned SRBs, a result of the Challenger accident, and the first shuttle to fly with the Phase II and Block I SSME.', 'Discovery also carried the Hubble Space Telescope to orbit and performed two of the five servicing missions to the observatory.', 'She flew the first and last dedicated Department of Defense (DoD) missions, as well as the first unclassified defense-related mission.', 'In addition, Discovery was vital to the construction of the International Space Station (ISS); she flew thirteen of the thirty-seven total missions flown to the station by a U.S. Space Shuttle.', 'She was the first orbiter to dock to the ISS, and the first to perform an exchange of a resident crew.', 'Under Criterion C, Discovery is significant as a feat of engineering.', 'According to Wayne Hale, a flight director from Johnson Space Center, the Space Shuttle orbiter represents a “huge technological leap from expendable rockets and capsules to a reusable, winged, hypersonic, cargo-carrying spacecraft.” Although her base structure followed a conventional aircraft design, she used advanced materials that both minimized her weight for cargo-carrying purposes and featured low thermal expansion ratios, which provided a stable base for her Thermal Protection System (TPS) materials.', 'The Space Shuttle orbiter also featured the first reusable TPS; all previous spaceflight vehicles had a single-use, ablative heat shield.', 'Other notable engineering achievements of the orbiter included the first reusable orbital propulsion system, and the first two-fault-tolerant Integrated Avionics System.', 'As Hale stated, the Space Shuttle remains “the largest, fastest, winged hypersonic aircraft in history,” having regularly flown at twenty-five times the speed of sound.']\n",
      "Sentences len : 16\n",
      "Punctuation :  {';', '\\n', '!', '?', ':', '.', ','}\n",
      "Stop words :  {'doing', 'we', 'ourselves', 'theirs', 'are', 'will', 'i', 'ours', \"mightn't\", 'out', 'be', 'who', 'most', 'mustn', 'wouldn', 'is', 'few', 'it', 'a', 'to', 'of', 'should', 'once', 'wasn', \"couldn't\", 'other', 'during', 'them', 'didn', 'been', 'can', \"it's\", 'while', 'how', 'an', 'about', 'under', 'haven', 'do', 'couldn', 'own', 'against', 'your', 'any', \"won't\", 'll', 'very', 'being', 'then', \"mustn't\", 'up', 'and', 'not', 'hasn', \"should've\", 'her', 'now', 'the', 'with', 'shan', 'am', 'whom', 'as', 'that', 'himself', \"hasn't\", 'all', 'needn', \"she's\", 'its', 'themselves', 'aren', 'each', 's', 'his', 'such', 'does', 'before', 'why', \"didn't\", 'than', 'hers', 'here', 'my', 'yourselves', 'some', 'same', 'between', 'off', 'y', 'only', 'at', 'this', 'again', \"needn't\", 'myself', 'had', \"you're\", 'too', \"shouldn't\", 'isn', 'yours', 'she', 'so', 're', 'nor', 'no', \"haven't\", 'until', \"wasn't\", 'those', 'when', 'have', 'ma', 'hadn', 'o', 'won', \"that'll\", 't', 'into', \"don't\", 'm', 'itself', 'has', \"weren't\", 'down', 'or', 'above', 've', 'below', 'over', 'further', 'mightn', \"shan't\", 'through', 'd', 'yourself', 'were', 'both', 'after', \"isn't\", 'these', 'our', 'by', 'their', 'just', 'herself', 'you', 'did', 'he', 'from', 'weren', 'doesn', 'which', \"you'll\", 'him', \"you've\", \"hadn't\", \"you'd\", 'what', 'was', 'on', 'there', 'having', 'me', 'for', \"doesn't\", 'where', \"wouldn't\", 'but', 'in', 'if', 'more', 'because', 'they', \"aren't\", 'ain', 'don', 'shouldn'}\n",
      "Stop words len:  179\n"
     ]
    }
   ],
   "source": [
    "tokens = word_tokenize(text)\n",
    "sentences = sent_tokenize(text)\n",
    "stop_words = set(stopwords.words('english'))\n",
    "\n",
    "punctuation = set(PunktTokenizer.PUNCTUATION)\n",
    "# punctuation.update(['\\n', '\"', '“', '”', '’', '(', ')'])\n",
    "punctuation.update(['\\n'])\n",
    "\n",
    "\n",
    "print(\"Tokens : \", tokens)\n",
    "print(\"Sentences :\", sentences)\n",
    "print(\"Sentences len :\", len(sentences))\n",
    "\n",
    "print(\"Punctuation : \", punctuation)\n",
    "\n",
    "print(\"Stop words : \", stop_words)\n",
    "print(\"Stop words len: \", len(stop_words))\n"
   ]
  },
  {
   "cell_type": "code",
   "execution_count": 130,
   "metadata": {},
   "outputs": [],
   "source": [
    "words_not_used = stop_words.union(punctuation)\n",
    "# words_not_used = spacy.lang.en.STOP_WORDS.union(punctuation)\n",
    "\n",
    "word_frequencies = {}\n",
    "for word in tokens:\n",
    "  word_lower = word.lower()\n",
    "  if word_lower in words_not_used:\n",
    "    continue  \n",
    "  word_frequencies.setdefault(word_lower, 0)\n",
    "  word_frequencies[word_lower] += 1"
   ]
  },
  {
   "cell_type": "code",
   "execution_count": 131,
   "metadata": {},
   "outputs": [
    {
     "data": {
      "text/plain": [
       "[('space', 13),\n",
       " ('first', 10),\n",
       " ('shuttle', 8),\n",
       " ('orbiter', 7),\n",
       " ('discovery', 7),\n",
       " ('(', 7),\n",
       " (')', 7),\n",
       " ('criterion', 4),\n",
       " ('missions', 4),\n",
       " ('program', 3),\n",
       " ('engineering', 3),\n",
       " ('station', 3),\n",
       " ('flew', 3),\n",
       " ('also', 3),\n",
       " ('fly', 3),\n",
       " ('reusable', 3),\n",
       " ('system', 3),\n",
       " ('u.s.', 2),\n",
       " ('c', 2),\n",
       " ('significant', 2),\n",
       " ('vehicles', 2),\n",
       " ('ssp', 2),\n",
       " ('five', 2),\n",
       " ('orbiters', 2),\n",
       " ('construction', 2),\n",
       " ('times', 2),\n",
       " ('flight', 2),\n",
       " ('challenger', 2),\n",
       " ('iss', 2),\n",
       " ('flown', 2),\n",
       " ('hale', 2),\n",
       " ('“', 2),\n",
       " ('winged', 2),\n",
       " ('hypersonic', 2),\n",
       " ('cargo-carrying', 2),\n",
       " ('”', 2),\n",
       " ('base', 2),\n",
       " ('aircraft', 2),\n",
       " ('materials', 2),\n",
       " ('featured', 2),\n",
       " ('thermal', 2),\n",
       " ('tps', 2),\n",
       " ('ov-103', 1),\n",
       " ('considered', 1),\n",
       " ('eligible', 1),\n",
       " ('listing', 1),\n",
       " ('national', 1),\n",
       " ('register', 1),\n",
       " ('historic', 1),\n",
       " ('places', 1),\n",
       " ('nrhp', 1),\n",
       " ('context', 1),\n",
       " ('1969-2011', 1),\n",
       " ('areas', 1),\n",
       " ('exploration', 1),\n",
       " ('transportation', 1),\n",
       " ('area', 1),\n",
       " ('achieved', 1),\n",
       " ('significance', 1),\n",
       " ('within', 1),\n",
       " ('past', 1),\n",
       " ('fifty', 1),\n",
       " ('years', 1),\n",
       " ('criteria', 1),\n",
       " ('consideration', 1),\n",
       " ('g', 1),\n",
       " ('applies', 1),\n",
       " ('oldest', 1),\n",
       " ('three', 1),\n",
       " ('extant', 1),\n",
       " ('constructed', 1),\n",
       " ('longest', 1),\n",
       " ('running', 1),\n",
       " ('american', 1),\n",
       " ('date', 1),\n",
       " ('third', 1),\n",
       " ('built', 1),\n",
       " ('nasa', 1),\n",
       " ('unlike', 1),\n",
       " ('mercury', 1),\n",
       " ('gemini', 1),\n",
       " ('apollo', 1),\n",
       " ('programs', 1),\n",
       " ('’', 1),\n",
       " ('emphasis', 1),\n",
       " ('cost', 1),\n",
       " ('effectiveness', 1),\n",
       " ('reusability', 1),\n",
       " ('eventually', 1),\n",
       " ('including', 1),\n",
       " ('maiden', 1),\n",
       " ('voyage', 1),\n",
       " ('launched', 1),\n",
       " ('august', 1),\n",
       " ('30', 1),\n",
       " ('1984', 1),\n",
       " ('thirty-nine', 1),\n",
       " ('four', 1),\n",
       " ('twenty', 1),\n",
       " ('honor', 1),\n",
       " ('chosen', 1),\n",
       " ('return', 1),\n",
       " ('vehicle', 1),\n",
       " ('columbia', 1),\n",
       " ('accidents', 1),\n",
       " ('redesigned', 1),\n",
       " ('srbs', 1),\n",
       " ('result', 1),\n",
       " ('accident', 1),\n",
       " ('phase', 1),\n",
       " ('ii', 1),\n",
       " ('block', 1),\n",
       " ('ssme', 1),\n",
       " ('carried', 1),\n",
       " ('hubble', 1),\n",
       " ('telescope', 1),\n",
       " ('orbit', 1),\n",
       " ('performed', 1),\n",
       " ('two', 1),\n",
       " ('servicing', 1),\n",
       " ('observatory', 1),\n",
       " ('last', 1),\n",
       " ('dedicated', 1),\n",
       " ('department', 1),\n",
       " ('defense', 1),\n",
       " ('dod', 1),\n",
       " ('well', 1),\n",
       " ('unclassified', 1),\n",
       " ('defense-related', 1),\n",
       " ('mission', 1),\n",
       " ('addition', 1),\n",
       " ('vital', 1),\n",
       " ('international', 1),\n",
       " ('thirteen', 1),\n",
       " ('thirty-seven', 1),\n",
       " ('total', 1),\n",
       " ('dock', 1),\n",
       " ('perform', 1),\n",
       " ('exchange', 1),\n",
       " ('resident', 1),\n",
       " ('crew', 1),\n",
       " ('feat', 1),\n",
       " ('according', 1),\n",
       " ('wayne', 1),\n",
       " ('director', 1),\n",
       " ('johnson', 1),\n",
       " ('center', 1),\n",
       " ('represents', 1),\n",
       " ('huge', 1),\n",
       " ('technological', 1),\n",
       " ('leap', 1),\n",
       " ('expendable', 1),\n",
       " ('rockets', 1),\n",
       " ('capsules', 1),\n",
       " ('spacecraft.', 1),\n",
       " ('although', 1),\n",
       " ('structure', 1),\n",
       " ('followed', 1),\n",
       " ('conventional', 1),\n",
       " ('design', 1),\n",
       " ('used', 1),\n",
       " ('advanced', 1),\n",
       " ('minimized', 1),\n",
       " ('weight', 1),\n",
       " ('purposes', 1),\n",
       " ('low', 1),\n",
       " ('expansion', 1),\n",
       " ('ratios', 1),\n",
       " ('provided', 1),\n",
       " ('stable', 1),\n",
       " ('protection', 1),\n",
       " ('previous', 1),\n",
       " ('spaceflight', 1),\n",
       " ('single-use', 1),\n",
       " ('ablative', 1),\n",
       " ('heat', 1),\n",
       " ('shield', 1),\n",
       " ('notable', 1),\n",
       " ('achievements', 1),\n",
       " ('included', 1),\n",
       " ('orbital', 1),\n",
       " ('propulsion', 1),\n",
       " ('two-fault-tolerant', 1),\n",
       " ('integrated', 1),\n",
       " ('avionics', 1),\n",
       " ('stated', 1),\n",
       " ('remains', 1),\n",
       " ('largest', 1),\n",
       " ('fastest', 1),\n",
       " ('history', 1),\n",
       " ('regularly', 1),\n",
       " ('twenty-five', 1),\n",
       " ('speed', 1),\n",
       " ('sound', 1)]"
      ]
     },
     "execution_count": 131,
     "metadata": {},
     "output_type": "execute_result"
    }
   ],
   "source": [
    "sorted(word_frequencies.items(), key=lambda x: x[1], reverse=True)"
   ]
  },
  {
   "cell_type": "code",
   "execution_count": 132,
   "metadata": {},
   "outputs": [],
   "source": [
    "sentence_scores = {}\n",
    "for sentence in sentences:\n",
    "    sentence_scores[sentence] = sum(word_frequencies.get(word.lower(), 0) for word in sentence)"
   ]
  },
  {
   "cell_type": "code",
   "execution_count": 133,
   "metadata": {},
   "outputs": [
    {
     "name": "stdout",
     "output_type": "stream",
     "text": [
      "('According to Wayne Hale, a flight director from Johnson Space Center, the Space Shuttle orbiter represents a “huge technological leap from expendable rockets and capsules to a reusable, winged, hypersonic, cargo-carrying spacecraft.” Although her base structure followed a conventional aircraft design, she used advanced materials that both minimized her weight for cargo-carrying purposes and featured low thermal expansion ratios, which provided a stable base for her Thermal Protection System (TPS) materials.', 76)\n",
      "('The Orbiter Discovery, OV-103, is considered eligible for listing in the National Register of Historic Places (NRHP) in the context of the U.S. Space Shuttle Program (1969-2011) under Criterion A in the areas of Space Exploration and Transportation and under Criterion C in the area of Engineering.', 54)\n",
      "('Under Criterion A, Discovery is significant as the oldest of the three extant orbiter vehicles constructed for the Space Shuttle Program (SSP), the longest running American space program to date; she was the third of five orbiters built by NASA.', 37)\n",
      "('Including her maiden voyage (launched August 30, 1984), Discovery flew to space thirty-nine times, more than any of the other four orbiters; she was also the first orbiter to fly twenty missions.', 25)\n",
      "('In addition, Discovery was vital to the construction of the International Space Station (ISS); she flew thirteen of the thirty-seven total missions flown to the station by a U.S. Space Shuttle.', 24)\n",
      "('She flew the first and last dedicated Department of Defense (DoD) missions, as well as the first unclassified defense-related mission.', 18)\n",
      "('Unlike the Mercury, Gemini, and Apollo programs, the SSP’s emphasis was on cost effectiveness and reusability, and eventually the construction of a space station.', 15)\n",
      "('She had the honor of being chosen as the Return to Flight vehicle after both the Challenger and Columbia accidents.', 15)\n",
      "('Because it has achieved significance within the past fifty years, Criteria Consideration G applies.', 14)\n",
      "('As Hale stated, the Space Shuttle remains “the largest, fastest, winged hypersonic aircraft in history,” having regularly flown at twenty-five times the speed of sound.', 14)\n",
      "('Discovery was the first shuttle to fly with the redesigned SRBs, a result of the Challenger accident, and the first shuttle to fly with the Phase II and Block I SSME.', 12)\n",
      "('Discovery also carried the Hubble Space Telescope to orbit and performed two of the five servicing missions to the observatory.', 11)\n",
      "('Under Criterion C, Discovery is significant as a feat of engineering.', 11)\n",
      "('Other notable engineering achievements of the orbiter included the first reusable orbital propulsion system, and the first two-fault-tolerant Integrated Avionics System.', 9)\n",
      "('The Space Shuttle orbiter also featured the first reusable TPS; all previous spaceflight vehicles had a single-use, ablative heat shield.', 8)\n",
      "('She was the first orbiter to dock to the ISS, and the first to perform an exchange of a resident crew.', 7)\n"
     ]
    }
   ],
   "source": [
    "print(*sorted(sentence_scores.items(), key=lambda x: x[1], reverse=True), sep='\\n')"
   ]
  },
  {
   "cell_type": "code",
   "execution_count": 134,
   "metadata": {},
   "outputs": [
    {
     "data": {
      "text/plain": [
       "['According to Wayne Hale, a flight director from Johnson Space Center, the Space Shuttle orbiter represents a “huge technological leap from expendable rockets and capsules to a reusable, winged, hypersonic, cargo-carrying spacecraft.” Although her base structure followed a conventional aircraft design, she used advanced materials that both minimized her weight for cargo-carrying purposes and featured low thermal expansion ratios, which provided a stable base for her Thermal Protection System (TPS) materials.',\n",
       " 'The Orbiter Discovery, OV-103, is considered eligible for listing in the National Register of Historic Places (NRHP) in the context of the U.S. Space Shuttle Program (1969-2011) under Criterion A in the areas of Space Exploration and Transportation and under Criterion C in the area of Engineering.',\n",
       " 'Under Criterion A, Discovery is significant as the oldest of the three extant orbiter vehicles constructed for the Space Shuttle Program (SSP), the longest running American space program to date; she was the third of five orbiters built by NASA.',\n",
       " 'Including her maiden voyage (launched August 30, 1984), Discovery flew to space thirty-nine times, more than any of the other four orbiters; she was also the first orbiter to fly twenty missions.',\n",
       " 'In addition, Discovery was vital to the construction of the International Space Station (ISS); she flew thirteen of the thirty-seven total missions flown to the station by a U.S. Space Shuttle.']"
      ]
     },
     "execution_count": 134,
     "metadata": {},
     "output_type": "execute_result"
    }
   ],
   "source": [
    "summary_nltk = nlargest(5, sentence_scores, key=sentence_scores.get)\n",
    "summary_nltk"
   ]
  },
  {
   "cell_type": "markdown",
   "metadata": {},
   "source": [
    "## Results"
   ]
  },
  {
   "cell_type": "code",
   "execution_count": 113,
   "metadata": {},
   "outputs": [
    {
     "data": {
      "text/plain": [
       "[The Orbiter Discovery, OV-103, is considered eligible for listing in the National Register of Historic Places (NRHP) in the context of the U.S. Space Shuttle Program (1969-2011) under Criterion A in the areas of Space Exploration and Transportation and under Criterion C in the area of Engineering.,\n",
       " Under Criterion A, Discovery is significant as the oldest of the three extant orbiter vehicles constructed for the Space Shuttle Program (SSP), the longest running American space program to date; she was the third of five orbiters built by NASA.,\n",
       " In addition, Discovery was vital to the construction of the International Space Station (ISS); she flew thirteen of the thirty-seven total missions flown to the station by a U.S. Space Shuttle.,\n",
       " According to Wayne Hale, a flight director from Johnson Space Center, the Space Shuttle orbiter represents a “huge technological leap from expendable rockets and capsules to a reusable, winged, hypersonic, cargo-carrying spacecraft.”,\n",
       " Including her maiden voyage (launched August 30, 1984), Discovery flew to space thirty-nine times, more than any of the other four orbiters; she was also the first orbiter to fly twenty missions.]"
      ]
     },
     "execution_count": 113,
     "metadata": {},
     "output_type": "execute_result"
    }
   ],
   "source": [
    "summary_spaCy"
   ]
  },
  {
   "cell_type": "code",
   "execution_count": 121,
   "metadata": {},
   "outputs": [
    {
     "data": {
      "text/markdown": [
       "## spaCy summary : <br> <h4>The Orbiter Discovery, OV-103, is considered eligible for listing in the National Register of Historic Places (NRHP) in the context of the U.S. Space Shuttle Program (1969-2011) under Criterion A in the areas of Space Exploration and Transportation and under Criterion C in the area of Engineering. Under Criterion A, Discovery is significant as the oldest of the three extant orbiter vehicles constructed for the Space Shuttle Program (SSP), the longest running American space program to date; she was the third of five orbiters built by NASA. In addition, Discovery was vital to the construction of the International Space Station (ISS); she flew thirteen of the thirty-seven total missions flown to the station by a U.S. Space Shuttle. According to Wayne Hale, a flight director from Johnson Space Center, the Space Shuttle orbiter represents a “huge technological leap from expendable rockets and capsules to a reusable, winged, hypersonic, cargo-carrying spacecraft.” Including her maiden voyage (launched August 30, 1984), Discovery flew to space thirty-nine times, more than any of the other four orbiters; she was also the first orbiter to fly twenty missions.</h4>  <h2> nltk  summary: </h2> <h4>According to Wayne Hale, a flight director from Johnson Space Center, the Space Shuttle orbiter represents a “huge technological leap from expendable rockets and capsules to a reusable, winged, hypersonic, cargo-carrying spacecraft.” Although her base structure followed a conventional aircraft design, she used advanced materials that both minimized her weight for cargo-carrying purposes and featured low thermal expansion ratios, which provided a stable base for her Thermal Protection System (TPS) materials. The Orbiter Discovery, OV-103, is considered eligible for listing in the National Register of Historic Places (NRHP) in the context of the U.S. Space Shuttle Program (1969-2011) under Criterion A in the areas of Space Exploration and Transportation and under Criterion C in the area of Engineering. Under Criterion A, Discovery is significant as the oldest of the three extant orbiter vehicles constructed for the Space Shuttle Program (SSP), the longest running American space program to date; she was the third of five orbiters built by NASA. Including her maiden voyage (launched August 30, 1984), Discovery flew to space thirty-nine times, more than any of the other four orbiters; she was also the first orbiter to fly twenty missions. In addition, Discovery was vital to the construction of the International Space Station (ISS); she flew thirteen of the thirty-seven total missions flown to the station by a U.S. Space Shuttle.</h4>"
      ],
      "text/plain": [
       "<IPython.core.display.Markdown object>"
      ]
     },
     "execution_count": 121,
     "metadata": {},
     "output_type": "execute_result"
    }
   ],
   "source": [
    "# print(\"spaCy summary: \", \" \".join(str(i)for i in summary_spaCy), sep=\"\\n\")\n",
    "# print(\"nltk summary: \", \"\\n\".join(summary_nltk), sep=\"\\n\", )\n",
    "\n",
    "from IPython.display import Markdown as md\n",
    "\n",
    "md(\"## spaCy summary : <br> <h4>\" + \" \".join(str(i) for i in summary_spaCy) + \"</h4>  <h2> nltk  summary: </h2> <h4>\" + \" \".join(summary_nltk) + \"</h4>\")"
   ]
  }
 ],
 "metadata": {
  "kernelspec": {
   "display_name": "Python 3",
   "language": "python",
   "name": "python3"
  },
  "language_info": {
   "codemirror_mode": {
    "name": "ipython",
    "version": 3
   },
   "file_extension": ".py",
   "mimetype": "text/x-python",
   "name": "python",
   "nbconvert_exporter": "python",
   "pygments_lexer": "ipython3",
   "version": "3.11.9"
  }
 },
 "nbformat": 4,
 "nbformat_minor": 2
}
