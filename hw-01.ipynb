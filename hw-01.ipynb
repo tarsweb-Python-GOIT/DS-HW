{
 "cells": [
  {
   "cell_type": "code",
   "execution_count": 42,
   "metadata": {},
   "outputs": [],
   "source": [
    "import numpy as np"
   ]
  },
  {
   "cell_type": "markdown",
   "metadata": {},
   "source": [
    "01. Створіть одновимірний масив (вектор) з першими 10-ма натуральними числами та виведіть його значення."
   ]
  },
  {
   "cell_type": "code",
   "execution_count": 43,
   "metadata": {},
   "outputs": [
    {
     "name": "stdout",
     "output_type": "stream",
     "text": [
      "[0 1 2 3 4 5 6 7 8 9]\n",
      "[0 1 2 3 4 5 6 7 8 9]\n",
      "[0 1 2 3 4 5 6 7 8 9]\n",
      "[0 1 2 3 4 5 6 7 8 9]\n"
     ]
    }
   ],
   "source": [
    "array = np.arange(0,10)\n",
    "print(array)\n",
    "array = np.array(range(10))\n",
    "print(array)\n",
    "array = np.linspace(0,9, num=10, dtype=int)\n",
    "print(array)\n",
    "array = np.asarray(range(0,10))\n",
    "print(array)"
   ]
  },
  {
   "cell_type": "markdown",
   "metadata": {},
   "source": [
    "02. Створіть двовимірний масив (матрицю) розміром 3x3, заповніть його нулями та виведіть його значення."
   ]
  },
  {
   "cell_type": "code",
   "execution_count": 84,
   "metadata": {},
   "outputs": [
    {
     "name": "stdout",
     "output_type": "stream",
     "text": [
      "[[0 0 0]\n",
      " [0 0 0]\n",
      " [0 0 0]]\n"
     ]
    }
   ],
   "source": [
    "array_zero = np.zeros((3,3), dtype=int)\n",
    "print(array_zero)"
   ]
  },
  {
   "cell_type": "markdown",
   "metadata": {},
   "source": [
    "03. Створіть масив розміром 5x5, заповніть його випадковими цілими числами в діапазоні від 1 до 10 та виведіть його значення."
   ]
  },
  {
   "cell_type": "code",
   "execution_count": 45,
   "metadata": {},
   "outputs": [
    {
     "name": "stdout",
     "output_type": "stream",
     "text": [
      "[[3 5 5 2 8]\n",
      " [1 6 6 7 8]\n",
      " [2 4 7 3 8]\n",
      " [7 4 6 5 4]\n",
      " [2 4 7 9 2]]\n"
     ]
    }
   ],
   "source": [
    "array = np.random.randint(0, 10, (5,5))\n",
    "print(array)"
   ]
  },
  {
   "cell_type": "markdown",
   "metadata": {},
   "source": [
    "04. Створіть масив розміром 4x4, заповніть його випадковими дійсними числами в діапазоні від 0 до 1 та виведіть його значення."
   ]
  },
  {
   "cell_type": "code",
   "execution_count": 46,
   "metadata": {},
   "outputs": [
    {
     "name": "stdout",
     "output_type": "stream",
     "text": [
      "[[0.67900335 0.64163497 0.20409539 0.05235306]\n",
      " [0.56749832 0.15619691 0.3332902  0.60540272]\n",
      " [0.85627259 0.9454706  0.86165493 0.38013329]\n",
      " [0.66090483 0.76933342 0.20877236 0.15758629]]\n"
     ]
    }
   ],
   "source": [
    "array = np.random.rand(4,4)\n",
    "print(array)"
   ]
  },
  {
   "cell_type": "markdown",
   "metadata": {},
   "source": [
    "05. Створіть два одновимірних масиви розміром 5, заповніть їх випадковими цілими числами в діапазоні від 1 до 10 та виконайте на них поелементні операції додавання, віднімання та множення."
   ]
  },
  {
   "cell_type": "code",
   "execution_count": 47,
   "metadata": {},
   "outputs": [
    {
     "name": "stdout",
     "output_type": "stream",
     "text": [
      "[5 7 6 8 1] [7 9 4 2 4]\n"
     ]
    }
   ],
   "source": [
    "array_one = np.random.randint(1, 10, 5)\n",
    "array_two = np.random.randint(1, 10, 5)\n",
    "print(array_one, array_two)"
   ]
  },
  {
   "cell_type": "code",
   "execution_count": 48,
   "metadata": {},
   "outputs": [
    {
     "name": "stdout",
     "output_type": "stream",
     "text": [
      "[12 16 10 10  5]\n"
     ]
    }
   ],
   "source": [
    "# Add \n",
    "\n",
    "print(array_one + array_two)"
   ]
  },
  {
   "cell_type": "code",
   "execution_count": 49,
   "metadata": {},
   "outputs": [
    {
     "name": "stdout",
     "output_type": "stream",
     "text": [
      "[-2 -2  2  6 -3]\n"
     ]
    }
   ],
   "source": [
    "# Subtraction\n",
    "\n",
    "print(array_one - array_two)"
   ]
  },
  {
   "cell_type": "code",
   "execution_count": 50,
   "metadata": {},
   "outputs": [
    {
     "name": "stdout",
     "output_type": "stream",
     "text": [
      "[35 63 24 16  4]\n"
     ]
    }
   ],
   "source": [
    "# Multiplication\n",
    "\n",
    "print(array_one * array_two)\n"
   ]
  },
  {
   "cell_type": "code",
   "execution_count": 51,
   "metadata": {},
   "outputs": [
    {
     "name": "stdout",
     "output_type": "stream",
     "text": [
      "[0.71428571 0.77777778 1.5        4.         0.25      ]\n"
     ]
    }
   ],
   "source": [
    "# Devision\n",
    "\n",
    "print(array_one / array_two)"
   ]
  },
  {
   "cell_type": "markdown",
   "metadata": {},
   "source": [
    "06. Створіть два вектори розміром 7, заповніть довільними числами та знайдіть їх скалярний добуток."
   ]
  },
  {
   "cell_type": "code",
   "execution_count": 52,
   "metadata": {},
   "outputs": [
    {
     "name": "stdout",
     "output_type": "stream",
     "text": [
      "[77 24 27 31 13 12 84] [18 37 75 42 95 76 45]\n",
      "[(77, 18), (24, 37), (27, 75), (31, 42), (13, 95), (12, 76), (84, 45)]\n"
     ]
    }
   ],
   "source": [
    "array_one = np.random.randint(1, 100, 7)\n",
    "array_two = np.random.randint(1, 100, 7)\n",
    "print(array_one, array_two)\n",
    "\n",
    "print(list(zip(array_one, array_two)))"
   ]
  },
  {
   "cell_type": "code",
   "execution_count": 53,
   "metadata": {},
   "outputs": [
    {
     "name": "stdout",
     "output_type": "stream",
     "text": [
      "11528\n"
     ]
    },
    {
     "data": {
      "text/plain": [
       "11528"
      ]
     },
     "execution_count": 53,
     "metadata": {},
     "output_type": "execute_result"
    }
   ],
   "source": [
    "#\n",
    "scalar = np.sum(array_one *array_two)\n",
    "print(scalar)\n",
    "\n",
    "np.dot(array_one, array_two)"
   ]
  },
  {
   "cell_type": "markdown",
   "metadata": {},
   "source": [
    "07. Створіть дві матриці розміром 2x2 та 2x3, заповніть їх випадковими цілими числами в діапазоні від 1 до 10 та перемножте їх між собою."
   ]
  },
  {
   "cell_type": "code",
   "execution_count": 54,
   "metadata": {},
   "outputs": [
    {
     "name": "stdout",
     "output_type": "stream",
     "text": [
      "[[3 5]\n",
      " [9 9]] [[8 3 5]\n",
      " [7 9 2]]\n"
     ]
    }
   ],
   "source": [
    "matrix_one = np.random.randint(1, 10, (2,2))\n",
    "matrix_two = np.random.randint(1, 10, (2,3))\n",
    "\n",
    "print(matrix_one, matrix_two)"
   ]
  },
  {
   "cell_type": "code",
   "execution_count": 55,
   "metadata": {},
   "outputs": [
    {
     "data": {
      "text/plain": [
       "array([[ 59,  54,  25],\n",
       "       [135, 108,  63]])"
      ]
     },
     "execution_count": 55,
     "metadata": {},
     "output_type": "execute_result"
    }
   ],
   "source": [
    "np.dot(matrix_one, matrix_two)"
   ]
  },
  {
   "cell_type": "markdown",
   "metadata": {},
   "source": [
    "8. Створіть матрицю розміром 3x3, заповніть її випадковими цілими числами в діапазоні від 1 до 10 та знайдіть її обернену матрицю."
   ]
  },
  {
   "cell_type": "code",
   "execution_count": 56,
   "metadata": {},
   "outputs": [
    {
     "name": "stdout",
     "output_type": "stream",
     "text": [
      "[[4 8 7]\n",
      " [1 5 1]\n",
      " [3 9 5]]\n"
     ]
    }
   ],
   "source": [
    "matrix = np.random.randint(1, 10, (3,3))\n",
    "print(matrix)"
   ]
  },
  {
   "cell_type": "code",
   "execution_count": 57,
   "metadata": {},
   "outputs": [
    {
     "data": {
      "text/plain": [
       "array([[ 2.66666667,  3.83333333, -4.5       ],\n",
       "       [-0.33333333, -0.16666667,  0.5       ],\n",
       "       [-1.        , -2.        ,  2.        ]])"
      ]
     },
     "execution_count": 57,
     "metadata": {},
     "output_type": "execute_result"
    }
   ],
   "source": [
    "np.linalg.inv(matrix)"
   ]
  },
  {
   "cell_type": "markdown",
   "metadata": {},
   "source": [
    "09. Створіть матрицю розміром 4x4, заповніть її випадковими дійсними числами в діапазоні від 0 до 1 та транспонуйте її."
   ]
  },
  {
   "cell_type": "code",
   "execution_count": 58,
   "metadata": {},
   "outputs": [
    {
     "name": "stdout",
     "output_type": "stream",
     "text": [
      "[[0.84310723 0.11039013 0.50659407 0.86234804]\n",
      " [0.12493481 0.28163928 0.19631276 0.04497847]\n",
      " [0.35676168 0.35887951 0.15110165 0.87786766]\n",
      " [0.37315312 0.8854132  0.33906105 0.70550681]]\n"
     ]
    }
   ],
   "source": [
    "matrix = np.random.rand(4,4)\n",
    "print(matrix)"
   ]
  },
  {
   "cell_type": "code",
   "execution_count": 59,
   "metadata": {},
   "outputs": [
    {
     "data": {
      "text/plain": [
       "array([[0.84310723, 0.12493481, 0.35676168, 0.37315312],\n",
       "       [0.11039013, 0.28163928, 0.35887951, 0.8854132 ],\n",
       "       [0.50659407, 0.19631276, 0.15110165, 0.33906105],\n",
       "       [0.86234804, 0.04497847, 0.87786766, 0.70550681]])"
      ]
     },
     "execution_count": 59,
     "metadata": {},
     "output_type": "execute_result"
    }
   ],
   "source": [
    "matrix.T"
   ]
  },
  {
   "cell_type": "markdown",
   "metadata": {
    "vscode": {
     "languageId": "ini"
    }
   },
   "source": [
    "10. Створіть матрицю розміром 3x4 та вектор розміром 4, заповніть їх випадковими цілими числами в діапазоні від 1 до 10 та перемножте матрицю на вектор."
   ]
  },
  {
   "cell_type": "code",
   "execution_count": 60,
   "metadata": {},
   "outputs": [
    {
     "name": "stdout",
     "output_type": "stream",
     "text": [
      "[[4 9 5 4]\n",
      " [9 8 5 6]\n",
      " [9 3 1 7]] [5 8 9 4]\n"
     ]
    }
   ],
   "source": [
    "matrix = np.random.randint(1, 10, (3,4))\n",
    "vector = np.random.randint(1, 10, 4)\n",
    "print(matrix, vector)"
   ]
  },
  {
   "cell_type": "code",
   "execution_count": 61,
   "metadata": {},
   "outputs": [
    {
     "data": {
      "text/plain": [
       "array([153, 178, 106])"
      ]
     },
     "execution_count": 61,
     "metadata": {},
     "output_type": "execute_result"
    }
   ],
   "source": [
    "matrix.dot(vector)"
   ]
  },
  {
   "cell_type": "markdown",
   "metadata": {
    "vscode": {
     "languageId": "ini"
    }
   },
   "source": [
    "11. Створіть матрицю розміром 2x3 та вектор розміром 3, заповніть їх випадковими дійсними числами в діапазоні від 0 до 1 та перемножте матрицю на вектор."
   ]
  },
  {
   "cell_type": "code",
   "execution_count": 62,
   "metadata": {},
   "outputs": [
    {
     "name": "stdout",
     "output_type": "stream",
     "text": [
      "[[0.24890374 0.37351592 0.86664586]\n",
      " [0.12266498 0.14466036 0.66083954]] [0.80748659 0.12810274 0.89840568]\n"
     ]
    }
   ],
   "source": [
    "matrix = np.random.rand(2,3)\n",
    "vector = np.random.rand(3)\n",
    "print(matrix, vector)"
   ]
  },
  {
   "cell_type": "code",
   "execution_count": 63,
   "metadata": {},
   "outputs": [
    {
     "data": {
      "text/plain": [
       "array([1.02743441, 0.7112837 ])"
      ]
     },
     "execution_count": 63,
     "metadata": {},
     "output_type": "execute_result"
    }
   ],
   "source": [
    "matrix.dot(vector)"
   ]
  },
  {
   "cell_type": "markdown",
   "metadata": {},
   "source": [
    "12. Створіть дві матриці розміром 2x2, заповніть їх випадковими цілими числами в діапазоні від 1 до 10 та виконайте їхнє поелементне множення."
   ]
  },
  {
   "cell_type": "code",
   "execution_count": 64,
   "metadata": {},
   "outputs": [
    {
     "name": "stdout",
     "output_type": "stream",
     "text": [
      "[[9 1]\n",
      " [5 8]] [[1 2]\n",
      " [4 2]]\n"
     ]
    }
   ],
   "source": [
    "matrix_one = np.random.randint(1, 10, (2,2))\n",
    "matrix_two = np.random.randint(1, 10, (2,2))\n",
    "print(matrix_one, matrix_two)"
   ]
  },
  {
   "cell_type": "code",
   "execution_count": 65,
   "metadata": {},
   "outputs": [
    {
     "data": {
      "text/plain": [
       "array([[ 9,  2],\n",
       "       [20, 16]])"
      ]
     },
     "execution_count": 65,
     "metadata": {},
     "output_type": "execute_result"
    }
   ],
   "source": [
    "matrix_one*matrix_two"
   ]
  },
  {
   "cell_type": "markdown",
   "metadata": {},
   "source": [
    "13. Створіть дві матриці розміром 2x2, заповніть їх випадковими цілими числами в діапазоні від 1 до 10 та знайдіть їх добуток."
   ]
  },
  {
   "cell_type": "code",
   "execution_count": 66,
   "metadata": {},
   "outputs": [
    {
     "name": "stdout",
     "output_type": "stream",
     "text": [
      "[[3 2]\n",
      " [2 7]] [[2 3]\n",
      " [2 4]]\n"
     ]
    }
   ],
   "source": [
    "matrix_one = np.random.randint(1, 10, (2,2))\n",
    "matrix_two = np.random.randint(1, 10, (2,2))\n",
    "print(matrix_one, matrix_two)"
   ]
  },
  {
   "cell_type": "code",
   "execution_count": 67,
   "metadata": {},
   "outputs": [
    {
     "data": {
      "text/plain": [
       "array([[10, 17],\n",
       "       [18, 34]])"
      ]
     },
     "execution_count": 67,
     "metadata": {},
     "output_type": "execute_result"
    }
   ],
   "source": [
    "matrix_one.dot(matrix_two)"
   ]
  },
  {
   "cell_type": "markdown",
   "metadata": {},
   "source": [
    "14. Створіть матрицю розміром 5x5, заповніть її випадковими цілими числами в діапазоні від 1 до 100 та знайдіть суму елементів матриці."
   ]
  },
  {
   "cell_type": "code",
   "execution_count": 68,
   "metadata": {},
   "outputs": [
    {
     "name": "stdout",
     "output_type": "stream",
     "text": [
      "[[97 17 96  7 67]\n",
      " [31 96 90  8 96]\n",
      " [80 42 89 10 98]\n",
      " [48 58 91 83 45]\n",
      " [27 72 77 15 67]]\n"
     ]
    }
   ],
   "source": [
    "matrix = np.random.randint(1, 100, (5,5))\n",
    "print(matrix)"
   ]
  },
  {
   "cell_type": "code",
   "execution_count": 69,
   "metadata": {},
   "outputs": [
    {
     "data": {
      "text/plain": [
       "1507"
      ]
     },
     "execution_count": 69,
     "metadata": {},
     "output_type": "execute_result"
    }
   ],
   "source": [
    "matrix.sum()"
   ]
  },
  {
   "cell_type": "markdown",
   "metadata": {},
   "source": [
    "15. Створіть дві матриці розміром 4x4, заповніть їх випадковими цілими числами в діапазоні від 1 до 10 та знайдіть їхню різницю."
   ]
  },
  {
   "cell_type": "code",
   "execution_count": 70,
   "metadata": {},
   "outputs": [
    {
     "name": "stdout",
     "output_type": "stream",
     "text": [
      "[[3 8 4 3]\n",
      " [6 1 6 4]\n",
      " [2 2 6 9]\n",
      " [9 6 2 5]] [[4 4 7 6]\n",
      " [3 4 6 1]\n",
      " [7 6 8 9]\n",
      " [2 5 3 8]]\n"
     ]
    }
   ],
   "source": [
    "matrix_one = np.random.randint(1, 10, (4,4))\n",
    "matrix_two = np.random.randint(1, 10, (4,4))\n",
    "print(matrix_one, matrix_two)"
   ]
  },
  {
   "cell_type": "code",
   "execution_count": 71,
   "metadata": {},
   "outputs": [
    {
     "data": {
      "text/plain": [
       "array([[-1,  4, -3, -3],\n",
       "       [ 3, -3,  0,  3],\n",
       "       [-5, -4, -2,  0],\n",
       "       [ 7,  1, -1, -3]])"
      ]
     },
     "execution_count": 71,
     "metadata": {},
     "output_type": "execute_result"
    }
   ],
   "source": [
    "matrix_one-matrix_two"
   ]
  },
  {
   "cell_type": "markdown",
   "metadata": {},
   "source": [
    "16. Створіть матрицю розміром 3x3, заповніть її випадковими дійсними числами в діапазоні від 0 до 1 та знайдіть вектор-стовпчик, що містить суму елементів кожного рядка матриці."
   ]
  },
  {
   "cell_type": "code",
   "execution_count": 72,
   "metadata": {},
   "outputs": [
    {
     "name": "stdout",
     "output_type": "stream",
     "text": [
      "[[0.72014678 0.1564155  0.82770913]\n",
      " [0.14895346 0.94573844 0.63659489]\n",
      " [0.16586555 0.51554508 0.14548608]]\n"
     ]
    }
   ],
   "source": [
    "matrix = np.random.rand(3,3)\n",
    "print(matrix)"
   ]
  },
  {
   "cell_type": "code",
   "execution_count": 73,
   "metadata": {},
   "outputs": [
    {
     "data": {
      "text/plain": [
       "3"
      ]
     },
     "execution_count": 73,
     "metadata": {},
     "output_type": "execute_result"
    }
   ],
   "source": [
    "matrix.shape[0]"
   ]
  },
  {
   "cell_type": "code",
   "execution_count": 74,
   "metadata": {},
   "outputs": [
    {
     "data": {
      "text/plain": [
       "array([[1.7042714 ],\n",
       "       [1.73128678],\n",
       "       [0.8268967 ]])"
      ]
     },
     "execution_count": 74,
     "metadata": {},
     "output_type": "execute_result"
    }
   ],
   "source": [
    "np.array([matrix[i].sum() for i in range(matrix.shape[0])]).reshape(matrix.shape[0],1)"
   ]
  },
  {
   "cell_type": "code",
   "execution_count": 75,
   "metadata": {},
   "outputs": [
    {
     "data": {
      "text/plain": [
       "array([[1.7042714 ],\n",
       "       [1.73128678],\n",
       "       [0.8268967 ]])"
      ]
     },
     "execution_count": 75,
     "metadata": {},
     "output_type": "execute_result"
    }
   ],
   "source": [
    "matrix.sum(axis=1, keepdims=True)"
   ]
  },
  {
   "cell_type": "markdown",
   "metadata": {},
   "source": [
    "17. Створіть матрицю розміром 3x4 з довільними цілими числами і створінь матрицю з квадратами цих чисел."
   ]
  },
  {
   "cell_type": "code",
   "execution_count": 76,
   "metadata": {},
   "outputs": [
    {
     "name": "stdout",
     "output_type": "stream",
     "text": [
      "[[11 35 26 57]\n",
      " [43 53  9 27]\n",
      " [ 2 92 58 11]]\n"
     ]
    }
   ],
   "source": [
    "matrix = np.random.randint(1, 100, (3,4))\n",
    "print(matrix)"
   ]
  },
  {
   "cell_type": "code",
   "execution_count": 77,
   "metadata": {},
   "outputs": [
    {
     "data": {
      "text/plain": [
       "array([[ 121, 1225,  676, 3249],\n",
       "       [1849, 2809,   81,  729],\n",
       "       [   4, 8464, 3364,  121]])"
      ]
     },
     "execution_count": 77,
     "metadata": {},
     "output_type": "execute_result"
    }
   ],
   "source": [
    "np.square(matrix)"
   ]
  },
  {
   "cell_type": "code",
   "execution_count": 78,
   "metadata": {},
   "outputs": [
    {
     "data": {
      "text/plain": [
       "array([[ 121, 1225,  676, 3249],\n",
       "       [1849, 2809,   81,  729],\n",
       "       [   4, 8464, 3364,  121]])"
      ]
     },
     "execution_count": 78,
     "metadata": {},
     "output_type": "execute_result"
    }
   ],
   "source": [
    "matrix*matrix"
   ]
  },
  {
   "cell_type": "code",
   "execution_count": 79,
   "metadata": {},
   "outputs": [
    {
     "data": {
      "text/plain": [
       "array([[ 121, 1225,  676, 3249],\n",
       "       [1849, 2809,   81,  729],\n",
       "       [   4, 8464, 3364,  121]], dtype=int32)"
      ]
     },
     "execution_count": 79,
     "metadata": {},
     "output_type": "execute_result"
    }
   ],
   "source": [
    "np.power(matrix, 2)"
   ]
  },
  {
   "cell_type": "markdown",
   "metadata": {},
   "source": [
    "18. Створіть вектор розміром 4, заповніть його випадковими цілими числами в діапазоні від 1 до 50 та знайдіть вектор з квадратними коренями цих чисел."
   ]
  },
  {
   "cell_type": "code",
   "execution_count": 80,
   "metadata": {},
   "outputs": [
    {
     "name": "stdout",
     "output_type": "stream",
     "text": [
      "[33  7 38 47]\n"
     ]
    }
   ],
   "source": [
    "vector = np.random.randint(1, 50, 4)\n",
    "print(vector)"
   ]
  },
  {
   "cell_type": "code",
   "execution_count": 81,
   "metadata": {},
   "outputs": [
    {
     "data": {
      "text/plain": [
       "array([5.74456265, 2.64575131, 6.164414  , 6.8556546 ])"
      ]
     },
     "execution_count": 81,
     "metadata": {},
     "output_type": "execute_result"
    }
   ],
   "source": [
    "np.sqrt(vector)"
   ]
  },
  {
   "cell_type": "code",
   "execution_count": 82,
   "metadata": {},
   "outputs": [
    {
     "data": {
      "text/plain": [
       "array([5.74456265, 2.64575131, 6.164414  , 6.8556546 ])"
      ]
     },
     "execution_count": 82,
     "metadata": {},
     "output_type": "execute_result"
    }
   ],
   "source": [
    "np.power(vector, 1/2)"
   ]
  }
 ],
 "metadata": {
  "kernelspec": {
   "display_name": "notebook",
   "language": "python",
   "name": "python3"
  },
  "language_info": {
   "codemirror_mode": {
    "name": "ipython",
    "version": 3
   },
   "file_extension": ".py",
   "mimetype": "text/x-python",
   "name": "python",
   "nbconvert_exporter": "python",
   "pygments_lexer": "ipython3",
   "version": "3.11.9"
  }
 },
 "nbformat": 4,
 "nbformat_minor": 2
}
