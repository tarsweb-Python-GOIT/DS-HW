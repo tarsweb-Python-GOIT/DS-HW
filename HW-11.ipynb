{
 "cells": [
  {
   "cell_type": "markdown",
   "metadata": {},
   "source": [
    "Cтворити рекурентну нейронну мережу за допомогою механізмів Keras, яка буде класифікувати рецензії із датасету imdb."
   ]
  },
  {
   "cell_type": "code",
   "execution_count": 1,
   "metadata": {},
   "outputs": [],
   "source": [
    "import numpy as np\n",
    "import pandas as pd\n",
    "import matplotlib.pyplot as plt"
   ]
  },
  {
   "cell_type": "code",
   "execution_count": 2,
   "metadata": {},
   "outputs": [],
   "source": [
    "import keras as k\n",
    "import tensorflow as tf"
   ]
  },
  {
   "cell_type": "code",
   "execution_count": 4,
   "metadata": {},
   "outputs": [],
   "source": [
    "from keras.datasets import imdb\n",
    "from keras.utils import pad_sequences\n",
    "\n",
    "max_features = 1000\n",
    "maxlen = 500\n",
    "batch_size = 32\n",
    "\n",
    "(x_train, y_train), (x_test, y_test) = imdb.load_data(num_words=max_features)\n",
    "\n",
    "x_train = pad_sequences(x_train, maxlen=maxlen)\n",
    "x_test = pad_sequences(x_test, maxlen=maxlen)"
   ]
  },
  {
   "cell_type": "code",
   "execution_count": 44,
   "metadata": {},
   "outputs": [],
   "source": [
    "word_index = k.datasets.imdb.get_word_index()\n",
    "inverse_word_index = dict([(value, key) for (key, value) in word_index.items()])\n",
    "\n",
    "# inverse_word_index[1] = \"[START]\"\n",
    "# inverse_word_index[2] = \"[OOV]\"\n",
    "\n",
    "def get_reading_text(array_index_word: np.array) -> str:\n",
    "    for word_index in array_index_word :\n",
    "        print(inverse_word_index.get(word_index, ''), end=' ')\n",
    "    # return ' '.join([word_index[str(word)] for word in text])"
   ]
  },
  {
   "cell_type": "code",
   "execution_count": 45,
   "metadata": {},
   "outputs": [
    {
     "name": "stdout",
     "output_type": "stream",
     "text": [
      "[  0   0   0   0   0   0   0   0   0   0   0   0   0   0   0   0   0   0\n",
      "   0   0   0   0   0   0   0   0   0   0   0   0   0   0   0   0   0   0\n",
      "   0   0   0   0   0   0   0   0   0   0   0   0   0   0   0   0   0   0\n",
      "   0   0   0   0   0   0   0   0   0   0   0   0   0   0   0   0   0   0\n",
      "   0   0   0   0   0   0   0   0   0   0   0   0   0   0   0   0   0   0\n",
      "   0   0   0   0   0   0   0   0   0   0   0   0   0   0   0   0   0   0\n",
      "   0   0   0   0   0   0   0   0   0   0   0   0   0   0   0   0   0   0\n",
      "   0   0   0   0   0   0   0   0   0   0   0   0   0   0   0   0   0   0\n",
      "   0   0   0   0   0   0   0   0   0   0   0   0   0   0   0   0   0   0\n",
      "   0   0   0   0   0   0   0   0   0   0   0   0   0   0   0   0   0   0\n",
      "   0   0   0   0   0   0   0   0   0   0   0   0   0   0   0   0   0   0\n",
      "   0   0   0   0   0   0   0   0   0   0   0   0   0   0   0   0   0   0\n",
      "   0   0   0   0   0   0   0   0   0   0   0   0   0   0   0   0   0   0\n",
      "   0   0   0   0   0   0   0   0   0   0   0   0   0   0   0   0   0   0\n",
      "   0   0   0   0   0   0   0   0   0   0   0   0   0   0   0   0   0   0\n",
      "   0   0   0   0   0   0   0   0   0   0   0   0   1  14  22  16  43 530\n",
      " 973   2   2  65 458   2  66   2   4 173  36 256   5  25 100  43 838 112\n",
      "  50 670   2   9  35 480 284   5 150   4 172 112 167   2 336 385  39   4\n",
      " 172   2   2  17 546  38  13 447   4 192  50  16   6 147   2  19  14  22\n",
      "   4   2   2 469   4  22  71  87  12  16  43 530  38  76  15  13   2   4\n",
      "  22  17 515  17  12  16 626  18   2   5  62 386  12   8 316   8 106   5\n",
      "   4   2   2  16 480  66   2  33   4 130  12  16  38 619   5  25 124  51\n",
      "  36 135  48  25   2  33   6  22  12 215  28  77  52   5  14 407  16  82\n",
      "   2   8   4 107 117   2  15 256   4   2   7   2   5 723  36  71  43 530\n",
      " 476  26 400 317  46   7   4   2   2  13 104  88   4 381  15 297  98  32\n",
      "   2  56  26 141   6 194   2  18   4 226  22  21 134 476  26 480   5 144\n",
      "  30   2  18  51  36  28 224  92  25 104   4 226  65  16  38   2  88  12\n",
      "  16 283   5  16   2 113 103  32  15  16   2  19 178  32]\n",
      "                                                                                                                                                                                                                                                                                          [START] as you with out themselves powerful and and their becomes and had and of lot from anyone to have after out atmosphere never more room and it so heart shows to years of every never going and help moments or of every and and movie except her was several of enough more with is now and film as you of and and unfortunately of you than him that with out themselves her get for was and of you movie sometimes movie that with scary but and to story wonderful that in seeing in character to of and and with heart had and they of here that with her serious to have does when from why what have and they is you that isn't one will very to as itself with other and in of seen over and for anyone of and br and to whether from than out themselves history he name half some br of and and was two most of mean for 1 any an and she he should is thought and but of script you not while history he heart to real at and but when from one bit then have two of script their with her and most that with wasn't to with and acting watch an for with and film want an "
     ]
    }
   ],
   "source": [
    "print(x_train[0])\n",
    "get_reading_text(x_train[0])"
   ]
  }
 ],
 "metadata": {
  "kernelspec": {
   "display_name": "Python 3",
   "language": "python",
   "name": "python3"
  },
  "language_info": {
   "codemirror_mode": {
    "name": "ipython",
    "version": 3
   },
   "file_extension": ".py",
   "mimetype": "text/x-python",
   "name": "python",
   "nbconvert_exporter": "python",
   "pygments_lexer": "ipython3",
   "version": "3.11.9"
  }
 },
 "nbformat": 4,
 "nbformat_minor": 2
}
