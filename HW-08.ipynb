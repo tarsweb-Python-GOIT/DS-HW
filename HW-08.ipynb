{
 "cells": [
  {
   "cell_type": "markdown",
   "metadata": {
    "id": "b0Yf4NBJUSNM"
   },
   "source": [
    "# Створення нейронної мережі\n",
    "\n",
    "У цьому завданні ми створимо повнозв'язну нейронну мережу, використовуючи при цьому низькорівневі механізми tensorflow.\n",
    "\n",
    "Архітектура нейромережі представлена на наступному малюнку. Як бачиш, у ній є один вхідний шар, два приховані, а також вихідний шар. В якості активаційної функції у прихованих шарах буде використовуватись сигмоїда. На вихідному шарі ми використовуємо softmax.\n",
    "\n",
    "Частина коду зі створення мережі вже написана, тобі потрібно заповнити пропуски у вказаних місцях."
   ]
  },
  {
   "cell_type": "markdown",
   "metadata": {
    "id": "01rZWUu0USNQ"
   },
   "source": [
    "## Архітектура нейронної мережі\n",
    "\n",
    "<img src=\"http://cs231n.github.io/assets/nn1/neural_net2.jpeg\" alt=\"nn\" style=\"width: 400px;\"/>\n"
   ]
  },
  {
   "cell_type": "markdown",
   "metadata": {
    "id": "LLvIZ705Qw_V"
   },
   "source": [
    "## Про датасет MNIST\n",
    "\n",
    "Дану нейромережу ми будемо вивчати на датасеті MNIST. Цей датасет являє собою велику кількість зображень рукописних цифр розміром $28 \\times 28$ пікселів. Кожен піксель приймає значення від 0 до 255.\n",
    "\n",
    "Як і раніше, датасет буде розділений на навчальну та тестову вибірки. При цьому ми виконаємо нормалізацію всіх зображень, щоб значення пікселів знаходилось у проміжку від 0 до 1, розділивши яскравість кожного пікселя на 255.\n",
    "\n",
    "Окрім того, архітектура нейронної мережі очікує на вхід вектор. У нашому ж випадку кожен об'єкт вибірки являє собою матрицю. Що ж робити? У цьому завданні ми \"розтягнемо\" матрицю $28 \\times 28$, отримавши при цьому вектор, що складається з 784 елементів.\n",
    "\n",
    "![MNIST Dataset](https://www.researchgate.net/profile/Steven-Young-5/publication/306056875/figure/fig1/AS:393921575309346@1470929630835/Example-images-from-the-MNIST-dataset.png)\n",
    "\n",
    "Більше інформації про датасет можна знайти [тут](http://yann.lecun.com/exdb/mnist/)."
   ]
  },
  {
   "cell_type": "code",
   "execution_count": 1,
   "metadata": {
    "id": "il_0_5OyUSNR"
   },
   "outputs": [],
   "source": [
    "import tensorflow as tf\n",
    "import numpy as np\n",
    "import pandas as pd\n",
    "import matplotlib.pyplot as plt\n",
    "import random\n",
    "import keras as K\n",
    "import seaborn as sns\n",
    "from sklearn.metrics import confusion_matrix"
   ]
  },
  {
   "cell_type": "code",
   "execution_count": 22,
   "metadata": {
    "id": "cd-1_abTUSNS"
   },
   "outputs": [],
   "source": [
    "num_classes = 10 # загальна кількість класів, у нашому випадку це цифри від 0 до 9\n",
    "num_features = 784 # кількість атрибутів вхідного вектора 28 * 28 = 784\n",
    "\n",
    "learning_rate = 0.001 # швидкість навчання нейронної мережі\n",
    "training_steps = 3000 # максимальне число епох\n",
    "batch_size = 256 # перераховувати ваги мережі ми будемо не на всій вибірці, а на її випадковій підмножині з batch_size елементів\n",
    "display_step = 100 # кожні 100 ітерацій ми будемо показувати поточне значення функції втрат і точності\n",
    "\n",
    "n_hidden_1 = 128 # кількість нейронів 1-го шару\n",
    "n_hidden_2 = 256 # кількість нейронів 2-го шару"
   ]
  },
  {
   "cell_type": "code",
   "execution_count": 3,
   "metadata": {
    "colab": {
     "base_uri": "https://localhost:8080/"
    },
    "id": "pGTXiRyTUSNT",
    "outputId": "68f5b9d9-6c78-4bda-b26f-69aa82e93f20"
   },
   "outputs": [],
   "source": [
    "# from tensorflow.keras.datasets import mnist\n",
    "from keras.datasets import mnist\n",
    "\n",
    "# Завантажуємо датасет\n",
    "(x_train, y_train), (x_test, y_test) = mnist.load_data()\n",
    "\n",
    "# Перетворюємо цілочисельні пікселі на тип float32\n",
    "x_train, x_test = np.array(x_train, np.float32), np.array(x_test, np.float32)\n",
    "\n",
    "# Перетворюємо матриці розміром 28x28 пікселів у вектор з 784 елементів\n",
    "x_train, x_test = x_train.reshape([-1, num_features]), x_test.reshape([-1, num_features])\n",
    "\n",
    "# Нормалізуємо значення пікселів\n",
    "x_train, x_test = x_train / 255., x_test / 255.\n",
    "\n",
    "# Перемішаємо тренувальні дані\n",
    "train_data = tf.data.Dataset.from_tensor_slices((x_train, y_train))\n",
    "train_data = train_data.repeat().shuffle(5000).batch(batch_size).prefetch(1)"
   ]
  },
  {
   "cell_type": "code",
   "execution_count": 4,
   "metadata": {
    "id": "FkRmCQjnUSNV"
   },
   "outputs": [],
   "source": [
    "# Створимо нейронну мережу\n",
    "\n",
    "class DenseLayer(tf.Module):\n",
    "    def __init__(self, in_features, out_features, name=None):\n",
    "        super().__init__(name=name)\n",
    "        self.w = tf.Variable(\n",
    "            tf.random.normal([in_features, out_features]), name=\"w\"\n",
    "        )\n",
    "        self.b = tf.Variable(tf.zeros([out_features]), name=\"b\")\n",
    "\n",
    "    def __call__(self, x, activation=0):\n",
    "        y = tf.matmul(x, self.w) + self.b\n",
    "        if activation != 0:\n",
    "            return tf.nn.softmax(y)\n",
    "        else:\n",
    "            return tf.nn.sigmoid(y)\n",
    "\n",
    "class NN(tf.Module):\n",
    "  def __init__(self, name=None):\n",
    "    super().__init__(name=name)\n",
    "    # Перший шар, який складається з 128 нейронів\n",
    "    # Місце для вашого коду\n",
    "    self.layer_1 = DenseLayer(in_features=num_features, out_features=n_hidden_1, name=\"Layer1\")\n",
    "    # Другий шар, який складається з 256 нейронів\n",
    "    # Місце для вашого коду\n",
    "    self.layer_2 = DenseLayer(in_features=n_hidden_1, out_features=n_hidden_2, name=\"Layer2\")\n",
    "    # Вихідний шар\n",
    "    # Місце для вашого коду\n",
    "    self.layer_3 = DenseLayer(in_features=n_hidden_2, out_features=num_classes, name=\"Output\")\n",
    "\n",
    "\n",
    "  def __call__(self, x):\n",
    "    # Передача даних через перші два шари та вихідний шар з функцією активації softmax\n",
    "    # Місце для вашого коду\n",
    "    x = self.layer_1(x)\n",
    "    x = self.layer_2(x)\n",
    "\n",
    "    return self.layer_3(x, activation=tf.nn.softmax) # Місце для вашого коду"
   ]
  },
  {
   "cell_type": "code",
   "execution_count": 17,
   "metadata": {
    "id": "LIf3o7VAUSNV"
   },
   "outputs": [],
   "source": [
    "# В якості функції помилки в даному випадку зручно взяти крос-ентропію\n",
    "def cross_entropy(y_pred, y_true):\n",
    "    # Закодувати label в one hot vector\n",
    "    y_true = tf.one_hot(y_true, depth=num_classes)\n",
    "\n",
    "    # Значення передбачення, щоб уникнути помилки log(0).\n",
    "    y_pred = tf.clip_by_value(y_pred, 1e-9, 1.)\n",
    "\n",
    "    # Обчислення крос-ентропії\n",
    "    return tf.reduce_mean(-tf.reduce_sum(y_true * tf.math.log(y_pred)))\n",
    "\n",
    "# Як метрику якості використовуємо точність\n",
    "def accuracy(y_pred, y_true):\n",
    "    # Місце для вашого коду\n",
    "    y_pred_labels = tf.cast(tf.argmax(y_pred, axis=1), tf.float64)\n",
    "\n",
    "    correct_predict = tf.equal(y_pred_labels, tf.cast(y_true, tf.float64))\n",
    "\n",
    "    accuracy = tf.reduce_mean(tf.cast(correct_predict, tf.float64))\n",
    "\n",
    "    return accuracy"
   ]
  },
  {
   "cell_type": "code",
   "execution_count": 20,
   "metadata": {
    "id": "MQeT1yatUSNW"
   },
   "outputs": [],
   "source": [
    "# Створимо екземпляр нейронної мережі\n",
    "neural_net = NN(name=\"mnist\")\n",
    "\n",
    "# Функція навчання нейромережі\n",
    "def train(neural_net, input_x, output_y):\n",
    "  # Для налаштування вагів мережі будемо використовувати стохастичний градієнтний спуск\n",
    "  optimizer = tf.optimizers.SGD(learning_rate)\n",
    "\n",
    "  # Активація автоматичного диференціювання\n",
    "  with tf.GradientTape() as g:\n",
    "    pred = neural_net(input_x)\n",
    "    loss = cross_entropy(pred, output_y)\n",
    "\n",
    "    # Отримаємо список оптимізованих параметрів\n",
    "    # Місце для вашого коду\n",
    "    gradients = g.gradient(loss, neural_net.trainable_variables)\n",
    "    # Обчислимо за ними значення градієнта\n",
    "    # Місце для вашого коду\n",
    "    optimizer.apply_gradients(zip(gradients, neural_net.trainable_variables))\n",
    "\n",
    "    # Модифікуємо параметри\n",
    "    # Місце для вашого коду\n",
    "    # optimizer.minimize(loss, neural_net.trainable_variables)"
   ]
  },
  {
   "cell_type": "code",
   "execution_count": 23,
   "metadata": {
    "id": "fnyns9lBfpQZ"
   },
   "outputs": [
    {
     "name": "stdout",
     "output_type": "stream",
     "text": [
      "Step: 100, Loss:   52.43, Accuracy: 94.92%\n",
      "Step: 200, Loss:   28.73, Accuracy: 96.09%\n",
      "Step: 300, Loss:   54.30, Accuracy: 92.58%\n",
      "Step: 400, Loss:   61.21, Accuracy: 91.41%\n",
      "Step: 500, Loss:   35.37, Accuracy: 95.70%\n",
      "Step: 600, Loss:   51.12, Accuracy: 94.14%\n",
      "Step: 700, Loss:   25.44, Accuracy: 96.88%\n",
      "Step: 800, Loss:   41.69, Accuracy: 95.70%\n",
      "Step: 900, Loss:   29.26, Accuracy: 96.88%\n",
      "Step: 1000, Loss:   34.55, Accuracy: 96.88%\n",
      "Step: 1100, Loss:   23.64, Accuracy: 96.48%\n",
      "Step: 1200, Loss:   19.66, Accuracy: 97.66%\n",
      "Step: 1300, Loss:   33.70, Accuracy: 97.27%\n",
      "Step: 1400, Loss:   22.52, Accuracy: 97.66%\n",
      "Step: 1500, Loss:   41.22, Accuracy: 95.70%\n",
      "Step: 1600, Loss:   24.44, Accuracy: 97.27%\n",
      "Step: 1700, Loss:   30.26, Accuracy: 96.48%\n",
      "Step: 1800, Loss:   38.38, Accuracy: 96.88%\n",
      "Step: 1900, Loss:   31.62, Accuracy: 96.48%\n",
      "Step: 2000, Loss:   26.99, Accuracy: 96.48%\n",
      "Step: 2100, Loss:   27.73, Accuracy: 97.27%\n",
      "Step: 2200, Loss:   39.92, Accuracy: 95.70%\n",
      "Step: 2300, Loss:   36.08, Accuracy: 94.53%\n",
      "Step: 2400, Loss:   37.32, Accuracy: 95.70%\n",
      "Step: 2500, Loss:   25.43, Accuracy: 96.88%\n",
      "Step: 2600, Loss:   35.75, Accuracy: 95.70%\n",
      "Step: 2700, Loss:   23.34, Accuracy: 96.88%\n",
      "Step: 2800, Loss:   50.97, Accuracy: 96.48%\n",
      "Step: 2900, Loss:   40.01, Accuracy: 96.09%\n",
      "Step: 3000, Loss:   49.17, Accuracy: 93.36%\n"
     ]
    }
   ],
   "source": [
    "# Тренування мережі\n",
    "\n",
    "loss_history = []  # кожні display_step кроків зберігай в цьому списку поточну помилку нейромережі\n",
    "accuracy_history = [] # кожні display_step кроків зберігай в цьому списку поточну точність нейромережі\n",
    "\n",
    "# У цьому циклі ми будемо проводити навчання нейронної мережі\n",
    "# із тренувального датасета train_data вилучи випадкову підмножину, на якій\n",
    "# відбудеться тренування. Використовуй метод take, доступний для тренувального датасета.\n",
    "for step, (batch_x, batch_y) in enumerate(train_data.take(training_steps), 1):\n",
    "    # Оновлюємо ваги нейронної мережі\n",
    "    # Місце для вашого коду\n",
    "    train(neural_net, batch_x, batch_y)\n",
    "\n",
    "    if step % display_step == 0:\n",
    "        pred = neural_net(batch_x)\n",
    "        # Місце для вашого коду\n",
    "        loss_step = cross_entropy(pred, batch_y)\n",
    "        accuracy_step = accuracy(pred, batch_y)\n",
    "\n",
    "        loss_history.append(loss_step)\n",
    "        accuracy_history.append(accuracy_step)\n",
    "\n",
    "        print(f\"Step: {step}, Loss: {loss_step:7.2f}, Accuracy: {accuracy_step:.2%}\")\n"
   ]
  },
  {
   "cell_type": "code",
   "execution_count": null,
   "metadata": {
    "id": "_yCBfG6MbQB2"
   },
   "outputs": [],
   "source": [
    "# Виведіть графіки залежності зміни точності і втрат від кроку\n",
    "# Якщо все зроблено правильно, то точність повинна зростати, а втрати зменшуватись\n",
    "\n",
    "import matplotlib.pyplot as plt\n",
    "\n",
    "# Виведіть графік функції втрат\n",
    "# Місце для вашого коду\n",
    "\n",
    "# Виведіть графік точності\n",
    "# Місце для вашого коду\n"
   ]
  },
  {
   "cell_type": "code",
   "execution_count": null,
   "metadata": {
    "id": "LE3g4gDyUSNY"
   },
   "outputs": [],
   "source": [
    "# Обчисліть точність навченої нейромережі\n",
    "# Місце для вашого коду\n",
    "# Тестування моделі на тестових даних\n",
    "# Місце для вашого коду"
   ]
  },
  {
   "cell_type": "code",
   "execution_count": null,
   "metadata": {
    "id": "_EEHAubOUSNY"
   },
   "outputs": [],
   "source": [
    "# Протестуйте навчену нейромережу на 10 зображеннях. З тестової вибірки візьміть 5\n",
    "# випадкових зображень і передайте їх у нейронну мережу.\n",
    "# Виведіть зображення та випишіть  поруч відповідь нейромережі.\n",
    "# Зробіть висновок про те, чи помиляється твоя нейронна мережа, і якщо так, то як часто?\n",
    "\n",
    "# Місце для вашого коду\n",
    "\n",
    "\n"
   ]
  }
 ],
 "metadata": {
  "colab": {
   "provenance": []
  },
  "kernelspec": {
   "display_name": "Python 3 (ipykernel)",
   "language": "python",
   "name": "python3"
  },
  "language_info": {
   "codemirror_mode": {
    "name": "ipython",
    "version": 3
   },
   "file_extension": ".py",
   "mimetype": "text/x-python",
   "name": "python",
   "nbconvert_exporter": "python",
   "pygments_lexer": "ipython3",
   "version": "3.11.9"
  }
 },
 "nbformat": 4,
 "nbformat_minor": 1
}
