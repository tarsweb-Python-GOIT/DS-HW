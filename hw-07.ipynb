{
 "cells": [
  {
   "cell_type": "markdown",
   "metadata": {},
   "source": [
    "Візьміть датасет [movielens](https://surprise.readthedocs.io/en/stable/dataset.html) і побудуйте модель матричної факторизації. У даній бібліотеці він має назву SVD. Підберіть найкращі параметри за допомогою крос-валідації, також поекспериментуйте з іншими алгоритмами розрахунків (SVD++, NMF) і оберіть той, який буде оптимальним."
   ]
  },
  {
   "cell_type": "code",
   "execution_count": 1,
   "metadata": {},
   "outputs": [],
   "source": [
    "import pandas as pd\n",
    "from surprise import Dataset, SVD, SVDpp, NMF, accuracy\n",
    "from surprise.model_selection import cross_validate\n",
    "from surprise.model_selection import GridSearchCV"
   ]
  },
  {
   "cell_type": "code",
   "execution_count": 2,
   "metadata": {},
   "outputs": [],
   "source": [
    "data = Dataset.load_builtin('ml-100k')"
   ]
  },
  {
   "cell_type": "markdown",
   "metadata": {},
   "source": [
    "## Модель матричної факторизації"
   ]
  },
  {
   "cell_type": "code",
   "execution_count": 3,
   "metadata": {},
   "outputs": [],
   "source": [
    "trainset = data.build_full_trainset()\n",
    "testset = trainset.build_testset()"
   ]
  },
  {
   "cell_type": "markdown",
   "metadata": {},
   "source": [
    "### SVD"
   ]
  },
  {
   "cell_type": "code",
   "execution_count": 4,
   "metadata": {},
   "outputs": [
    {
     "name": "stdout",
     "output_type": "stream",
     "text": [
      "RMSE: 0.6752\n"
     ]
    },
    {
     "data": {
      "text/plain": [
       "0.6751519444923186"
      ]
     },
     "execution_count": 4,
     "metadata": {},
     "output_type": "execute_result"
    }
   ],
   "source": [
    "algo_svd = SVD(random_state=42)\n",
    "\n",
    "algo_svd.fit(trainset)\n",
    "predict = algo_svd.test(testset)\n",
    "\n",
    "accuracy.rmse(predictions=predict)"
   ]
  },
  {
   "cell_type": "code",
   "execution_count": 5,
   "metadata": {},
   "outputs": [
    {
     "name": "stdout",
     "output_type": "stream",
     "text": [
      "Evaluating RMSE, MAE of algorithm SVD on 5 split(s).\n",
      "\n",
      "                  Fold 1  Fold 2  Fold 3  Fold 4  Fold 5  Mean    Std     \n",
      "RMSE (testset)    0.9409  0.9299  0.9303  0.9331  0.9454  0.9359  0.0062  \n",
      "MAE (testset)     0.7415  0.7341  0.7324  0.7377  0.7450  0.7381  0.0046  \n",
      "Fit time          0.86    0.88    0.88    0.88    0.87    0.87    0.01    \n",
      "Test time         0.24    0.14    0.14    0.25    0.14    0.18    0.05    \n",
      "RMSE: 0.9359\n",
      "MAE: 0.7381\n"
     ]
    }
   ],
   "source": [
    "cross_validate_result = cross_validate(algo_svd, data, measures=['RMSE', 'MAE'], cv=5, verbose=True)\n",
    "\n",
    "print(\"RMSE: {:.4f}\".format(cross_validate_result['test_rmse'].mean()))\n",
    "print(\"MAE: {:.4f}\".format(cross_validate_result['test_mae'].mean()))"
   ]
  },
  {
   "cell_type": "markdown",
   "metadata": {},
   "source": [
    "### SVD ++"
   ]
  },
  {
   "cell_type": "code",
   "execution_count": 6,
   "metadata": {},
   "outputs": [
    {
     "name": "stdout",
     "output_type": "stream",
     "text": [
      "RMSE: 0.7574\n"
     ]
    },
    {
     "data": {
      "text/plain": [
       "0.7574410731286018"
      ]
     },
     "execution_count": 6,
     "metadata": {},
     "output_type": "execute_result"
    }
   ],
   "source": [
    "algo_svdpp = SVDpp(random_state=42)\n",
    "\n",
    "algo_svdpp.fit(trainset)\n",
    "predict = algo_svdpp.test(testset)\n",
    "\n",
    "accuracy.rmse(predictions=predict)"
   ]
  },
  {
   "cell_type": "code",
   "execution_count": 7,
   "metadata": {},
   "outputs": [
    {
     "name": "stdout",
     "output_type": "stream",
     "text": [
      "Evaluating RMSE, MAE of algorithm SVDpp on 5 split(s).\n",
      "\n",
      "                  Fold 1  Fold 2  Fold 3  Fold 4  Fold 5  Mean    Std     \n",
      "RMSE (testset)    0.9255  0.9137  0.9195  0.9117  0.9196  0.9180  0.0049  \n",
      "MAE (testset)     0.7256  0.7161  0.7209  0.7168  0.7210  0.7201  0.0034  \n",
      "Fit time          13.87   21.22   14.05   13.97   22.57   17.14   3.91    \n",
      "Test time         4.44    4.37    4.47    4.46    4.42    4.43    0.04    \n",
      "RMSE: 0.9180\n",
      "MAE: 0.7201\n"
     ]
    }
   ],
   "source": [
    "cross_validate_result = cross_validate(algo_svdpp, data, measures=['RMSE', 'MAE'], cv=5, verbose=True)\n",
    "\n",
    "print(\"RMSE: {:.4f}\".format(cross_validate_result['test_rmse'].mean()))\n",
    "print(\"MAE: {:.4f}\".format(cross_validate_result['test_mae'].mean()))"
   ]
  },
  {
   "cell_type": "markdown",
   "metadata": {},
   "source": [
    "### NMF"
   ]
  },
  {
   "cell_type": "code",
   "execution_count": 8,
   "metadata": {},
   "outputs": [
    {
     "name": "stdout",
     "output_type": "stream",
     "text": [
      "RMSE: 0.8221\n"
     ]
    },
    {
     "data": {
      "text/plain": [
       "0.8221107626437083"
      ]
     },
     "execution_count": 8,
     "metadata": {},
     "output_type": "execute_result"
    }
   ],
   "source": [
    "algo_nmf = NMF(random_state=42)\n",
    "\n",
    "algo_nmf.fit(trainset)\n",
    "predict = algo_nmf.test(testset)\n",
    "\n",
    "accuracy.rmse(predictions=predict)"
   ]
  },
  {
   "cell_type": "code",
   "execution_count": 9,
   "metadata": {},
   "outputs": [
    {
     "name": "stdout",
     "output_type": "stream",
     "text": [
      "Evaluating RMSE, MAE of algorithm NMF on 5 split(s).\n",
      "\n",
      "                  Fold 1  Fold 2  Fold 3  Fold 4  Fold 5  Mean    Std     \n",
      "RMSE (testset)    0.9569  0.9708  0.9549  0.9680  0.9625  0.9626  0.0061  \n",
      "MAE (testset)     0.7508  0.7599  0.7502  0.7633  0.7580  0.7564  0.0051  \n",
      "Fit time          1.58    1.62    1.60    1.60    1.60    1.60    0.01    \n",
      "Test time         0.11    0.11    0.11    0.11    0.26    0.14    0.06    \n",
      "RMSE: 0.9626\n",
      "MAE: 0.7564\n"
     ]
    }
   ],
   "source": [
    "cross_validate_result = cross_validate(algo_nmf, data, measures=['RMSE', 'MAE'], cv=5, verbose=True)\n",
    "\n",
    "print(\"RMSE: {:.4f}\".format(cross_validate_result['test_rmse'].mean()))\n",
    "print(\"MAE: {:.4f}\".format(cross_validate_result['test_mae'].mean()))"
   ]
  },
  {
   "cell_type": "markdown",
   "metadata": {},
   "source": [
    "## Best algo (cross-validate)"
   ]
  },
  {
   "cell_type": "markdown",
   "metadata": {},
   "source": [
    "1. SVDpp (0.9211)\n",
    "2. SVD (0.9376)\n",
    "3. NMF (0.9636)"
   ]
  },
  {
   "cell_type": "markdown",
   "metadata": {},
   "source": [
    "## BEST Param"
   ]
  },
  {
   "cell_type": "code",
   "execution_count": 12,
   "metadata": {},
   "outputs": [
    {
     "name": "stdout",
     "output_type": "stream",
     "text": [
      "0.9173757466265855\n",
      "{'random_state': 42, 'n_epochs': 15, 'lr_all': 0.007, 'reg_all': 0.02}\n"
     ]
    }
   ],
   "source": [
    "param_grid = {\"random_state\": [42],\n",
    "              \"n_epochs\": [15, 20], \"lr_all\": [0.007], \"reg_all\": [0.02, 0.2]\n",
    "              }\n",
    "gs = GridSearchCV(SVDpp, param_grid, measures=[\"rmse\"], cv=5, n_jobs=-1)\n",
    "\n",
    "gs.fit(data)\n",
    "\n",
    "print(gs.best_score[\"rmse\"])\n",
    "print(gs.best_params[\"rmse\"])"
   ]
  },
  {
   "cell_type": "markdown",
   "metadata": {},
   "source": [
    "## Recomendation"
   ]
  },
  {
   "cell_type": "code",
   "execution_count": 42,
   "metadata": {},
   "outputs": [],
   "source": [
    "movie_list = pd.read_csv(\"content/data/ml-latest-small/movies.csv\")"
   ]
  },
  {
   "cell_type": "code",
   "execution_count": 13,
   "metadata": {},
   "outputs": [],
   "source": [
    "trainset = data.build_full_trainset()\n",
    "testset = trainset.build_testset()"
   ]
  },
  {
   "cell_type": "code",
   "execution_count": 16,
   "metadata": {},
   "outputs": [],
   "source": [
    "algo = gs.best_estimator[\"rmse\"]\n",
    "\n",
    "algo.fit(trainset)\n",
    "predict = algo.test(testset)"
   ]
  },
  {
   "cell_type": "code",
   "execution_count": 55,
   "metadata": {},
   "outputs": [],
   "source": [
    "def get_top_n_recommendation(predictions, n=10):\n",
    "    top_n = dict()\n",
    "    for uid, iid, true_r, est, _ in predictions:\n",
    "        top_n.setdefault(uid, [])\n",
    "        top_n[uid].append((iid, est))\n",
    "\n",
    "    for uid, user_ratings in top_n.items():\n",
    "        top_n[uid] = sorted(user_ratings, key=lambda x: x[1], reverse=True)[:n]\n",
    "\n",
    "    return top_n"
   ]
  },
  {
   "cell_type": "code",
   "execution_count": 57,
   "metadata": {},
   "outputs": [],
   "source": [
    "count_recommendation = 10\n",
    "top_n_recommendation = get_top_n_recommendation(predictions=predict, n =count_recommendation)"
   ]
  },
  {
   "cell_type": "code",
   "execution_count": 70,
   "metadata": {},
   "outputs": [
    {
     "name": "stdout",
     "output_type": "stream",
     "text": [
      "Top 10 movie for user `196` :\n",
      "- 251 Once Were Warriors (1994) 4.158705\n",
      "- 8 Sudden Death (1995) 4.071695\n",
      "- 1007 Female Perversions (1996) 4.042307\n",
      "- 242 Murder in the First (1995) 4.029599\n",
      "- 285 Tank Girl (1995) 4.006705\n",
      "- 269 Rent-a-Kid (1995) 3.907000\n",
      "- 655 Spitfire Grill, The (1996) 3.886761\n",
      "- 663 Kansas City (1996) 3.883407\n",
      "- 286 Tales from the Crypt Presents: Demon Knight (1995) 3.875516\n",
      "- 116 Birdcage, The (1996) 3.853859\n",
      "Top 10 movie for user `186` :\n",
      "- 300 Muriel's Wedding (1994) 4.227949\n",
      "- 71 Juror, The (1996) 4.206991\n",
      "- 79 Black Sheep (1996) 4.078892\n",
      "- 742 African Queen, The (1951) 4.025933\n",
      "- 385 Demolition Man (1993) 3.978472\n",
      "- 117 Brothers McMullen, The (1995) 3.957155\n",
      "- 470 Sirens (1994) 3.940768\n",
      "- 684 Breakfast at Tiffany's (1961) 3.928978\n",
      "- 95 Muppet Treasure Island (1996) 3.921227\n",
      "- 588 Great White Hype, The (1996) 3.918295\n",
      "Top 10 movie for user `22` :\n",
      "- 172 Under Siege 2: Dark Territory (1995) 5.000000\n",
      "- 50 Georgia (1995) 5.000000\n",
      "- 174 Unzipped (1995) 5.000000\n",
      "- 511 Snow White and the Seven Dwarfs (1937) 4.715349\n",
      "- 127 Beauty of the Day (Belle de jour) (1967) 4.697019\n",
      "- 187 Cure, The (1995) 4.646275\n",
      "- 144 Johnny Mnemonic (1995) 4.610217\n",
      "- 89 Bottle Rocket (1996) 4.595050\n",
      "- 181 Burnt by the Sun (Utomlyonnye solntsem) (1994) 4.548484\n",
      "- 515 Wild Bunch, The (1969) 4.509040\n",
      "Top 10 movie for user `244` :\n",
      "- 56 Don't Be a Menace to South Central While Drinking Your Juice in the Hood (1996) 5.000000\n",
      "- 179 Browning Version, The (1994) 4.934104\n",
      "- 276 Santa Clause, The (1994) 4.913117\n",
      "- 89 Bottle Rocket (1996) 4.903308\n",
      "- 475 Son in Law (1993) 4.809829\n",
      "- 169 Three Wishes (1995) 4.781586\n",
      "- 64 Kicking and Screaming (1995) 4.777124\n",
      "- 180 Bushwhacked (1995) 4.765118\n",
      "- 9 GoldenEye (1995) 4.762238\n",
      "- 357 Airheads (1994) 4.751908\n",
      "Top 10 movie for user `166` :\n",
      "- 313 Flintstones, The (1994) 4.632256\n",
      "- 300 Muriel's Wedding (1994) 4.319840\n",
      "- 315 Four Weddings and a Funeral (1994) 4.186193\n",
      "- 258 Pushing Hands (Tui shou) (1992) 4.057346\n",
      "- 328 Naked Gun 33 1/3: The Final Insult (1994) 3.961481\n",
      "- 322 Lion King, The (1994) 3.763425\n",
      "- 347 Faster Pussycat! Kill! Kill! (1965) 3.739185\n",
      "- 323 Little Buddha (1993) 3.657908\n",
      "- 751 Fly Away Home (1996) 3.637662\n",
      "- 343 S.F.W. (1994) 3.631218\n",
      "Top 10 movie for user `298` :\n",
      "- 318 I Love Trouble (1994) 4.723980\n",
      "- 174 Unzipped (1995) 4.647078\n",
      "- 50 Georgia (1995) 4.635603\n",
      "- 496 Spanking the Monkey (1994) 4.593541\n",
      "- 603 Ashes of Time (Dung che sai duk) (1994) 4.574280\n",
      "- 357 Airheads (1994) 4.539991\n",
      "- 483 Nightmare Before Christmas, The (1993) 4.523940\n",
      "- 172 Under Siege 2: Dark Territory (1995) 4.509203\n",
      "- 178 Wild Bill (1995) 4.494208\n",
      "- 22 Assassins (1995) 4.493296\n",
      "Top 10 movie for user `115` :\n",
      "- 100 Before and After (1996) 4.945098\n",
      "- 654 Tales from the Crypt Presents: Bordello of Blood (1996) 4.825478\n",
      "- 475 Son in Law (1993) 4.756325\n",
      "- 89 Bottle Rocket (1996) 4.709779\n",
      "- 12 Balto (1995) 4.659292\n",
      "- 56 Don't Be a Menace to South Central While Drinking Your Juice in the Hood (1996) 4.649803\n",
      "- 127 Beauty of the Day (Belle de jour) (1967) 4.635184\n",
      "- 9 GoldenEye (1995) 4.570851\n",
      "- 302 Ace Ventura: Pet Detective (1994) 4.566241\n",
      "- 657 Basquiat (1996) 4.548098\n",
      "Top 10 movie for user `253` :\n",
      "- 318 I Love Trouble (1994) 4.789317\n",
      "- 64 Kicking and Screaming (1995) 4.757871\n",
      "- 50 Georgia (1995) 4.680019\n",
      "- 98 Taxi Driver (1976) 4.640519\n",
      "- 483 Nightmare Before Christmas, The (1993) 4.638149\n",
      "- 496 Spanking the Monkey (1994) 4.566705\n",
      "- 427 Malice (1993) 4.506047\n",
      "- 12 Balto (1995) 4.481381\n",
      "- 22 Assassins (1995) 4.470548\n",
      "- 79 Black Sheep (1996) 4.439873\n",
      "Top 10 movie for user `305` :\n",
      "- 408 House Party 3 (1994) 4.401823\n",
      "- 474 Blade Runner (1982) 4.333464\n",
      "- 169 Three Wishes (1995) 4.282831\n",
      "- 483 Nightmare Before Christmas, The (1993) 4.260976\n",
      "- 89 Bottle Rocket (1996) 4.193184\n",
      "- 511 Snow White and the Seven Dwarfs (1937) 4.116469\n",
      "- 134 Crimson Tide (1995) 4.090180\n",
      "- 480 Terminal Velocity (1994) 4.075466\n",
      "- 285 Tank Girl (1995) 4.074169\n",
      "- 427 Malice (1993) 4.060472\n",
      "Top 10 movie for user `6` :\n",
      "- 483 Nightmare Before Christmas, The (1993) 4.634969\n",
      "- 474 Blade Runner (1982) 4.632363\n",
      "- 134 Crimson Tide (1995) 4.543308\n",
      "- 185 Babysitter, The (1995) 4.510255\n",
      "- 124 Rob Roy (1995) 4.492733\n",
      "- 178 Wild Bill (1995) 4.413370\n",
      "- 427 Malice (1993) 4.401511\n",
      "- 515 Wild Bunch, The (1969) 4.394138\n",
      "- 127 Beauty of the Day (Belle de jour) (1967) 4.387395\n",
      "- 480 Terminal Velocity (1994) 4.381034\n",
      "Top 10 movie for user `62` :\n",
      "- 276 Santa Clause, The (1994) 4.552797\n",
      "- 127 Beauty of the Day (Belle de jour) (1967) 4.539458\n",
      "- 50 Georgia (1995) 4.539341\n",
      "- 12 Balto (1995) 4.458828\n",
      "- 168 Umbrellas of Cherbourg, The (Parapluies de Cherbourg, Les) (1964) 4.400144\n",
      "- 172 Under Siege 2: Dark Territory (1995) 4.399630\n",
      "- 483 Nightmare Before Christmas, The (1993) 4.329941\n",
      "- 357 Airheads (1994) 4.314924\n",
      "- 173 Unstrung Heroes (1995) 4.280141\n",
      "- 56 Don't Be a Menace to South Central While Drinking Your Juice in the Hood (1996) 4.276419\n",
      "Top 10 movie for user `286` :\n",
      "- 483 Nightmare Before Christmas, The (1993) 4.724207\n",
      "- 408 House Party 3 (1994) 4.715078\n",
      "- 57 Two if by Sea (1996) 4.652392\n",
      "- 169 Three Wishes (1995) 4.626731\n",
      "- 251 Once Were Warriors (1994) 4.553984\n",
      "- 83 Beautiful Girls (1996) 4.543191\n",
      "- 1194 Spawn (1997) 4.531229\n",
      "- 133 Congo (1995) 4.513046\n",
      "- 198 Eat Drink Man Woman (Yin shi nan nu) (1994) 4.491949\n",
      "- 707 All About Eve (1950) 4.420617\n",
      "Top 10 movie for user `200` :\n",
      "- 318 I Love Trouble (1994) 5.000000\n",
      "- 173 Unstrung Heroes (1995) 5.000000\n",
      "- 313 Flintstones, The (1994) 5.000000\n",
      "- 174 Unzipped (1995) 5.000000\n",
      "- 50 Georgia (1995) 5.000000\n",
      "- 172 Under Siege 2: Dark Territory (1995) 5.000000\n",
      "- 22 Assassins (1995) 4.999004\n",
      "- 496 Spanking the Monkey (1994) 4.925645\n",
      "- 210 Hoop Dreams (1994) 4.919642\n",
      "- 79 Black Sheep (1996) 4.913534\n",
      "Top 10 movie for user `210` :\n",
      "- 127 Beauty of the Day (Belle de jour) (1967) 4.896735\n",
      "- 98 Taxi Driver (1976) 4.864144\n",
      "- 357 Airheads (1994) 4.769731\n",
      "- 50 Georgia (1995) 4.729842\n",
      "- 483 Nightmare Before Christmas, The (1993) 4.697230\n",
      "- 114 Man of the Year (1995) 4.675401\n",
      "- 56 Don't Be a Menace to South Central While Drinking Your Juice in the Hood (1996) 4.638834\n",
      "- 187 Cure, The (1995) 4.634974\n",
      "- 302 Ace Ventura: Pet Detective (1994) 4.599834\n",
      "- 651 Crow: City of Angels, The (1996) 4.592331\n",
      "Top 10 movie for user `224` :\n",
      "- 313 Flintstones, The (1994) 4.518206\n",
      "- 22 Assassins (1995) 4.499177\n",
      "- 300 Muriel's Wedding (1994) 4.178232\n",
      "- 318 I Love Trouble (1994) 4.106086\n",
      "- 69 Nico Icon (1995) 4.053992\n",
      "- 97 Braveheart (1995) 4.020373\n",
      "- 282 Sum of Us, The (1994) 4.018092\n",
      "- 28 City of Lost Children, The (Cité des enfants perdus, La) (1995) 3.920089\n",
      "- 125 Addiction, The (1995) 3.896208\n",
      "- 15 Casino (1995) 3.831336\n",
      "Top 10 movie for user `303` :\n",
      "- 276 Santa Clause, The (1994) 5.000000\n",
      "- 12 Balto (1995) 5.000000\n",
      "- 357 Airheads (1994) 5.000000\n",
      "- 50 Georgia (1995) 5.000000\n",
      "- 64 Kicking and Screaming (1995) 5.000000\n",
      "- 56 Don't Be a Menace to South Central While Drinking Your Juice in the Hood (1996) 5.000000\n",
      "- 98 Taxi Driver (1976) 5.000000\n",
      "- 127 Beauty of the Day (Belle de jour) (1967) 5.000000\n",
      "- 174 Unzipped (1995) 5.000000\n",
      "- 187 Cure, The (1995) 5.000000\n",
      "Top 10 movie for user `122` :\n",
      "- 513 Pinocchio (1940) 4.586808\n",
      "- 357 Airheads (1994) 4.480744\n",
      "- 86 Hate (Haine, La) (1995) 4.479488\n",
      "- 191 Don Juan DeMarco (1995) 4.438908\n",
      "- 127 Beauty of the Day (Belle de jour) (1967) 4.427480\n",
      "- 427 Malice (1993) 4.425371\n",
      "- 511 Snow White and the Seven Dwarfs (1937) 4.420534\n",
      "- 519 Candyman: Farewell to the Flesh (1995) 4.414488\n",
      "- 661 Bound (1996) 4.363014\n",
      "- 269 Rent-a-Kid (1995) 4.322920\n",
      "Top 10 movie for user `194` :\n",
      "- 64 Kicking and Screaming (1995) 4.270341\n",
      "- 127 Beauty of the Day (Belle de jour) (1967) 4.216719\n",
      "- 318 I Love Trouble (1994) 4.171733\n",
      "- 98 Taxi Driver (1976) 4.145505\n",
      "- 174 Unzipped (1995) 4.045467\n",
      "- 357 Airheads (1994) 4.041725\n",
      "- 56 Don't Be a Menace to South Central While Drinking Your Juice in the Hood (1996) 3.992888\n",
      "- 496 Spanking the Monkey (1994) 3.940321\n",
      "- 483 Nightmare Before Christmas, The (1993) 3.924836\n",
      "- 427 Malice (1993) 3.904121\n",
      "Top 10 movie for user `291` :\n",
      "- 174 Unzipped (1995) 5.000000\n",
      "- 12 Balto (1995) 5.000000\n",
      "- 172 Under Siege 2: Dark Territory (1995) 5.000000\n",
      "- 64 Kicking and Screaming (1995) 5.000000\n",
      "- 50 Georgia (1995) 5.000000\n",
      "- 56 Don't Be a Menace to South Central While Drinking Your Juice in the Hood (1996) 4.916774\n",
      "- 285 Tank Girl (1995) 4.904055\n",
      "- 100 Before and After (1996) 4.889901\n",
      "- 98 Taxi Driver (1976) 4.860466\n",
      "- 181 Burnt by the Sun (Utomlyonnye solntsem) (1994) 4.745509\n",
      "Top 10 movie for user `234` :\n",
      "- 483 Nightmare Before Christmas, The (1993) 4.192433\n",
      "- 479 Surviving the Game (1994) 4.170494\n",
      "- 178 Wild Bill (1995) 4.152004\n",
      "- 474 Blade Runner (1982) 4.126346\n",
      "- 513 Pinocchio (1940) 4.052137\n",
      "- 515 Wild Bunch, The (1969) 4.037936\n",
      "- 427 Malice (1993) 4.033953\n",
      "- 603 Ashes of Time (Dung che sai duk) (1994) 4.031044\n",
      "- 484 Three Musketeers, The (1993) 3.992450\n",
      "- 480 Terminal Velocity (1994) 3.985601\n"
     ]
    }
   ],
   "source": [
    "for k in list(top_n_recommendation)[:20] :\n",
    "    print(f\"Top {count_recommendation} movie for user `{k}` :\")\n",
    "    for id, est in top_n_recommendation[k]:\n",
    "        print(\"-\", id, movie_list['title'].get(int(id)), f\"{est:2f}\")\n"
   ]
  }
 ],
 "metadata": {
  "kernelspec": {
   "display_name": "Python 3",
   "language": "python",
   "name": "python3"
  },
  "language_info": {
   "codemirror_mode": {
    "name": "ipython",
    "version": 3
   },
   "file_extension": ".py",
   "mimetype": "text/x-python",
   "name": "python",
   "nbconvert_exporter": "python",
   "pygments_lexer": "ipython3",
   "version": "3.11.9"
  }
 },
 "nbformat": 4,
 "nbformat_minor": 2
}
